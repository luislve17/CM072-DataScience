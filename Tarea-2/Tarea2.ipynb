{
 "cells": [
  {
   "cell_type": "markdown",
   "metadata": {},
   "source": [
    "## Tarea 2 del curso CM-072\n",
    "\n",
    "* Nombre y apellidos:\n",
    "* Fecha de presentación: 19 de setiembre"
   ]
  },
  {
   "cell_type": "markdown",
   "metadata": {},
   "source": [
    "Esta tarea utiliza un pequeño subconjunto de los datos de la competencia de Kaggle  [Yelp Business Rating Prediction ](https://www.kaggle.com/c/yelp-recsys-2013).\n",
    "\n",
    "* Descripción de la data\n",
    "    - `yelp.json` es el formato original del archivo y `yelp.csv` contiene los mismos datos, en un formato más conveniente. Ambos archivos están en esta carpeta de la tarea, por lo que no es necesario descargar los datos del sitio web de Kaggle.\n",
    "\n",
    "    - Cada observación en este conjunto de datos es una revisión de un negocio en particular por un usuario en particular.\n",
    "\n",
    "    - La columna \"stars\" es la cantidad de estrellas (1 a 5) asignadas por el revisor al negocio. (Estrellas más altas indican mejores puntuaciones.) En otras palabras, es la calificación del negocio por la persona que escribió la revisión.\n",
    " \n",
    "    - La columna \"cool\" es la cantidad de votos \"cool\" que recibió esta crítica de otros usuarios de Yelp. Todas las reseñas comienzan con 0 votos \"cools\" y no hay límite para la cantidad de votos \"cools\" que puede recibir una revisión. En otras palabras, es una calificación de la revisión en sí misma, no una calificación de la empresa.\n",
    "   \n",
    "    - Las columnas \"useful\" y \"funny\" son similares a la columna \"cool\".\n",
    "    \n",
    "* Sugerencia: En estos ejercicios debes utilizar los siguientes commandos de scikit learn:\n",
    "\n",
    "    - [from sklearn.linear_model import LinearRegression](http://scikit-learn.org/stable/modules/generated/sklearn.linear_model.LinearRegression.html).\n",
    "    - [from sklearn.cross_validation import train_test_split](http://scikit-learn.org/stable/modules/generated/sklearn.model_selection.train_test_split.html)\n",
    "    - [from sklearn import metrics](http://scikit-learn.org/stable/modules/classes.html#module-sklearn.metrics)."
   ]
  },
  {
   "cell_type": "markdown",
   "metadata": {},
   "source": [
    "## Preguntas\n",
    "\n",
    "1. Lea yelp.csv en un DataFrame.\n"
   ]
  },
  {
   "cell_type": "code",
   "execution_count": 1,
   "metadata": {},
   "outputs": [],
   "source": [
    "# Tu solucion"
   ]
  },
  {
   "cell_type": "markdown",
   "metadata": {},
   "source": [
    "2. Ignoramos el archivo `yelp.csv` y construye un DataFrame de `yelp.json`. Esto implica leer los datos en Python, decodificar el JSON, convertirlo en un DataFrame y agregar columnas individuales para cada uno de los tipos de votos."
   ]
  },
  {
   "cell_type": "code",
   "execution_count": 2,
   "metadata": {},
   "outputs": [],
   "source": [
    "# Tu solucion"
   ]
  },
  {
   "cell_type": "markdown",
   "metadata": {},
   "source": [
    "3. Explora la relación entre cada uno de los tipos de votos (cool/useful/funny) y la cantidad de estrellas."
   ]
  },
  {
   "cell_type": "code",
   "execution_count": 3,
   "metadata": {},
   "outputs": [],
   "source": [
    "# Tu solucion"
   ]
  },
  {
   "cell_type": "markdown",
   "metadata": {},
   "source": [
    "4. Define `cool/ useful/funny` como características y `stars` como respuesta."
   ]
  },
  {
   "cell_type": "code",
   "execution_count": 4,
   "metadata": {},
   "outputs": [],
   "source": [
    "# Tu solucion"
   ]
  },
  {
   "cell_type": "markdown",
   "metadata": {},
   "source": [
    "5. Ajustamos un modelo de regresión lineal e interpreta los coeficientes. ¿Los coeficientes tienen sentido intuitivo para ti?. Explora el sitio web de Yelp para ver si se puede detectar tendencias similares.\n",
    "    "
   ]
  },
  {
   "cell_type": "code",
   "execution_count": 5,
   "metadata": {},
   "outputs": [],
   "source": [
    "# Tu solucion"
   ]
  },
  {
   "cell_type": "markdown",
   "metadata": {},
   "source": [
    "6. Evalua el modelo dividiendo los datos en  conjuntos de entrenamiento y prueba y calculando el RMSE. ¿El RMSE tiene un sentido intuitivo para ti?\n",
    "    "
   ]
  },
  {
   "cell_type": "code",
   "execution_count": 6,
   "metadata": {},
   "outputs": [],
   "source": [
    "# Tu solucion"
   ]
  },
  {
   "cell_type": "markdown",
   "metadata": {},
   "source": [
    "7. Intenta eliminar algunas de las características y analizar  si el RMSE mejora.\n",
    "   "
   ]
  },
  {
   "cell_type": "code",
   "execution_count": 7,
   "metadata": {},
   "outputs": [],
   "source": [
    "# Tu solucion"
   ]
  },
  {
   "cell_type": "markdown",
   "metadata": {},
   "source": [
    "8. (Obligatorio) Piensa en algunas características nuevas que podrías crear a partir de los datos existentes que pueden ser predictivos de la respuesta. Descubre cómo crear esas características en Pandas, agrégalas a tu modelo y ve si el RMSE mejora.\n",
    "    "
   ]
  },
  {
   "cell_type": "code",
   "execution_count": 8,
   "metadata": {},
   "outputs": [],
   "source": [
    "# Tu solucion"
   ]
  },
  {
   "cell_type": "markdown",
   "metadata": {},
   "source": [
    "9. Compara tu mejor RMSE en el conjunto de prueba con el RMSE para  un \"modelo nulo\", que es el modelo que ignora todas las características y simplemente predice el valor medio de respuesta en el conjunto de prueba.\n",
    "    "
   ]
  },
  {
   "cell_type": "code",
   "execution_count": 9,
   "metadata": {},
   "outputs": [],
   "source": [
    "# Tu solucion"
   ]
  },
  {
   "cell_type": "markdown",
   "metadata": {},
   "source": [
    "10. En lugar de tratar este problema por regresión, como sería si fuese un problema de clasificación y qué precisión en el conjunto prueba se puede lograr con KNN.\n",
    "   "
   ]
  },
  {
   "cell_type": "code",
   "execution_count": 10,
   "metadata": {},
   "outputs": [],
   "source": [
    "# Tu solucion"
   ]
  },
  {
   "cell_type": "markdown",
   "metadata": {},
   "source": [
    "11. Descubre cómo usar la regresión lineal en  clasificación y compara el valor de  precisión de clasificación con la precisión del algoritmo KNN."
   ]
  },
  {
   "cell_type": "code",
   "execution_count": 11,
   "metadata": {},
   "outputs": [],
   "source": [
    "# Tu solucion"
   ]
  },
  {
   "cell_type": "markdown",
   "metadata": {},
   "source": [
    "12. Lee el archivo `advertising.csv` y almacena este conjunto de datos en un Dataframe  llamado `datos`."
   ]
  },
  {
   "cell_type": "code",
   "execution_count": 12,
   "metadata": {},
   "outputs": [],
   "source": [
    "# Tu solucion"
   ]
  },
  {
   "cell_type": "markdown",
   "metadata": {},
   "source": [
    "13. Usa `info` y  `describe` en `datos`. Analiza tu respuesta."
   ]
  },
  {
   "cell_type": "code",
   "execution_count": 13,
   "metadata": {},
   "outputs": [],
   "source": [
    "# Tu solucion"
   ]
  },
  {
   "cell_type": "markdown",
   "metadata": {},
   "source": [
    "14. Usemos seaborn para explorar los datos. Realiza los siguientes gráficos  que se muestran a continuación!\n",
    "\n",
    "   - Crea un histograma para `age`\n",
    "   - Crea un `joinplot` que muestre `Area Income` versus `Age`.\n",
    "   - Crea un `joinplot` que muestre las distribuciones kde de  `Daily Time spent on site` vs. `Age`.\n",
    "   - Crea un `joinplot `de `Daily Time Spent on Site` vs. `Daily Internet Usage`.\n",
    "   - Crea un `pairplot` con `hue` definido por la característica de la columna `Clicked on Ad`. \n",
    "   \n",
    " Analiza tus resultados."
   ]
  },
  {
   "cell_type": "code",
   "execution_count": 14,
   "metadata": {},
   "outputs": [],
   "source": [
    "# Tu solucion"
   ]
  },
  {
   "cell_type": "markdown",
   "metadata": {},
   "source": [
    "15. (Obligatorio).  Asumiendo que:\n",
    "\n",
    "```\n",
    "datos.drop(['Ad Topic Line', 'City', 'Country', 'Timestamp'], axis=1, inplace=True)\n",
    "X = datos.drop(['Clicked on Ad'], axis = 1)\n",
    "y = datos['Clicked on Ad']\n",
    "```\n",
    "\n",
    "- Divide los datos en el conjunto de entrenamiento y prueba usando `train_test_split`.\n",
    "- Entrena y ajusta un modelo de regresión logística en el conjunto de entrenamiento.\n",
    "- Pronostica valores para los datos de prueba.\n",
    "- Crea un informe de clasificación para el modelo. Utiliza `classification_report`."
   ]
  },
  {
   "cell_type": "code",
   "execution_count": 15,
   "metadata": {},
   "outputs": [],
   "source": [
    "# Tu solucion"
   ]
  },
  {
   "cell_type": "markdown",
   "metadata": {},
   "source": [
    "16. (Obligatorio) Presenta un reporte del siguiente artículo de Sebastian Raschka: [Naive Bayes and Text Classification](http://sebastianraschka.com/Articles/2014_naive_bayes_1.html)."
   ]
  },
  {
   "cell_type": "code",
   "execution_count": 16,
   "metadata": {},
   "outputs": [],
   "source": [
    "# Tu solucion"
   ]
  },
  {
   "cell_type": "code",
   "execution_count": null,
   "metadata": {},
   "outputs": [],
   "source": []
  }
 ],
 "metadata": {
  "kernelspec": {
   "display_name": "Python 3",
   "language": "python",
   "name": "python3"
  },
  "language_info": {
   "codemirror_mode": {
    "name": "ipython",
    "version": 3
   },
   "file_extension": ".py",
   "mimetype": "text/x-python",
   "name": "python",
   "nbconvert_exporter": "python",
   "pygments_lexer": "ipython3",
   "version": "3.6.5"
  }
 },
 "nbformat": 4,
 "nbformat_minor": 2
}
