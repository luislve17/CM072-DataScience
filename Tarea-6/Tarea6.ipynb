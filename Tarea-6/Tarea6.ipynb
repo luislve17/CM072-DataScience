{
 "cells": [
  {
   "cell_type": "markdown",
   "metadata": {},
   "source": [
    "## Tarea 6 del curso CM-072\n",
    "\n",
    "* Nombre y apellidos: Luis Vasquez Espinoza\n",
    "* Fecha de presentación: 17 de octubre"
   ]
  },
  {
   "cell_type": "markdown",
   "metadata": {},
   "source": [
    "Sea el siguiente código:"
   ]
  },
  {
   "cell_type": "code",
   "execution_count": 3,
   "metadata": {},
   "outputs": [],
   "source": [
    "from __future__ import division, print_function, unicode_literals\n",
    "\n",
    "import numpy as np\n",
    "import os\n",
    "\n",
    "np.random.seed(42)\n",
    "\n",
    "%matplotlib inline \n",
    "import matplotlib\n",
    "import matplotlib.pyplot as plt\n",
    "plt.rcParams['axes.labelsize'] = 14\n",
    "plt.rcParams['xtick.labelsize'] = 12\n",
    "plt.rcParams['ytick.labelsize'] = 12\n",
    "\n",
    "def guardar_fig(fig_id, tight_layout=True):\n",
    "    print(\"Guardando figura\", fig_id)\n",
    "    if tight_layout:\n",
    "        plt.tight_layout()\n",
    "    plt.savefig(fig_id + \".png\", format='png', dpi=300)"
   ]
  },
  {
   "cell_type": "markdown",
   "metadata": {},
   "source": [
    "### ¿A qué se refiere `plt.rcParams`? Leer [aquí](https://matplotlib.org/users/customizing.html#matplotlib-rcparams) para más información . ¿Qué otras opciones nos da?.\n",
    "\n",
    "**Rpta:** rcParams es una variable de tipo diccionario (o similar a uno) que permite configurar parámetros ploteo de manera directa. Otras opciones incluyen:\n",
    "\n",
    "* Modificación de lineas:\n",
    "\n",
    "```py\n",
    "lines.linewidth # ancho de lineal\n",
    "lines.linestyle # estilo de linea\n",
    "lines.color     # color de linea\n",
    "lines.marker    # tipo de marcador\n",
    "lines.markeredgewidth  # ancho de marcador\n",
    "lines.markersize       # tamaño de marcador en puntos\n",
    "...\n",
    "```\n",
    "\n",
    "* Modificación de cajas (boxplot): (En su mayoría booleanos para mostrar o no detalles de la caja de ploteo)\n",
    "\n",
    "```py\n",
    "boxplot.vertical    : True\n",
    "boxplot.whiskers    : 1.5 # Margen de separacion de divisiones de referencia\n",
    "boxplot.showmeans   : False # Mostrar o no la guia de medias\n",
    "boxplot.showbox     : True\n",
    "boxplot.showfliers  : True\n",
    "boxplot.meanline    : False # Mostrar la linea de media\n",
    "```\n",
    "* Modificación de fuente:\n",
    "\n",
    "```py\n",
    "font.family         : sans-serif\n",
    "font.style          : normal\n",
    "font.variant        : normal\n",
    "font.weight         : medium\n",
    "font.stretch        : normal\n",
    "```\n",
    "\n",
    "* Modificación de comportamiento de texto: (En su mayoría configuracion de LaTex)\n",
    "\n",
    "```py\n",
    "text.latex.unicode : False\n",
    "text.latex.preamble : False\n",
    "mathtext.cal : cursive\n",
    "```\n",
    "\n",
    "### ¿Cómo guardamos las imágenes en el disco?. ¿Cuáles es la semántica de la llamada de esta función?.\n",
    "**Rpta:** Revisando el metódo:\n",
    "\n",
    "```py\n",
    "def guardar_fig(fig_id, tight_layout=True):\n",
    "    print(\"Guardando figura\", fig_id)\n",
    "    if tight_layout:\n",
    "        plt.tight_layout()\n",
    "    plt.savefig(fig_id + \".png\", format='png', dpi=300)\n",
    "```\n",
    "\n",
    "* **plt.tight_layout():**\n",
    "Funcion que fija el ploteo resultante de tal manera que encaje bien la figura; así solo los labels de los ejes, los labels de los ticks, los títulos y cajas de margen que esten adjuntas a la figura serán consideradas en la imagen final.\n",
    "\n",
    "* **plt.savefig(fname, dpi, format):**\n",
    "    * **fname:** Nombre con el que se guardará la figura\n",
    "    * **dpi:** Resolución de la imagen en puntos por pulgada.\n",
    "    * **format:** Extensión de guardado de la imagen\n",
    "    \n",
    "Por lo tanto, la semántica de la llamada a esta función pide el nombre de la imagen a guardar y si se desea considerar solo los factores adjuntos o anclados al margen de la imagen para ser guardada. Finalmente se guarda la imagen en formato *png* con una resolución de 300 dpi."
   ]
  },
  {
   "cell_type": "markdown",
   "metadata": {},
   "source": [
    "### Entrenando un árbol de decisión\n",
    "\n",
    "Usaremos el conjunto de datos Iris y crearemos un [Decision Tree Classifier](http://scikit-learn.org/stable/modules/tree.html)."
   ]
  },
  {
   "cell_type": "code",
   "execution_count": 4,
   "metadata": {},
   "outputs": [
    {
     "data": {
      "text/plain": [
       "DecisionTreeClassifier(class_weight=None, criterion='gini', max_depth=2,\n",
       "            max_features=None, max_leaf_nodes=None,\n",
       "            min_impurity_decrease=0.0, min_impurity_split=None,\n",
       "            min_samples_leaf=1, min_samples_split=2,\n",
       "            min_weight_fraction_leaf=0.0, presort=False, random_state=42,\n",
       "            splitter='best')"
      ]
     },
     "execution_count": 4,
     "metadata": {},
     "output_type": "execute_result"
    }
   ],
   "source": [
    "from sklearn.datasets import load_iris\n",
    "from sklearn.tree import DecisionTreeClassifier\n",
    "\n",
    "iris = load_iris()\n",
    "X = iris.data[:, 2:]\n",
    "y = iris.target\n",
    "\n",
    "clf_arbol= DecisionTreeClassifier(max_depth=2, random_state=42)\n",
    "clf_arbol.fit(X, y)"
   ]
  },
  {
   "cell_type": "markdown",
   "metadata": {},
   "source": [
    "### 1. Lee los detalles sobre el conjunto de datos de Iris [aquí](http://scikit-learn.org/stable/auto_examples/datasets/plot_iris_dataset.html) y [aquí](https://en.wikipedia.org/wiki/Iris_flower_data_set). ¿Qué características están en el conjunto de datos? ¿Cuál es la variable objetivo (y) y qué valores posibles asume?\n",
    "    \n",
    "**Rpta:** El dataset posee los siguientes features:\n",
    "\n",
    "* petal length\n",
    "* petal width\n",
    "* sepal length\n",
    "* sepal width\n",
    "\n",
    "Y la variable objetivo sería **species**, pudiendo ser Setosa, Versicolour y Virginica\n",
    "\n",
    "### 2. ¿Qué características estamos manteniendo para nuestro conjunto de entrenamiento (X)? ¿Cómo cambiarías el código para elegir diferentes características?. Modifique este código para ver cómo influye en los resultados.\n",
    "\n",
    "Como para crear $X$ se usan las columnas desde la 2 en adelante podemos mostrar los nombres de estas columnas a partir de la data original"
   ]
  },
  {
   "cell_type": "code",
   "execution_count": 11,
   "metadata": {},
   "outputs": [
    {
     "data": {
      "text/plain": [
       "['petal length (cm)', 'petal width (cm)']"
      ]
     },
     "execution_count": 11,
     "metadata": {},
     "output_type": "execute_result"
    }
   ],
   "source": [
    "iris.feature_names[2:]"
   ]
  },
  {
   "cell_type": "code",
   "execution_count": 34,
   "metadata": {},
   "outputs": [],
   "source": [
    "# Modificando los resultados para revisar su influencia\n",
    "from sklearn.model_selection import train_test_split\n",
    "from sklearn.metrics import accuracy_score\n",
    "\n",
    "def modif_tree_model():\n",
    "    scores = {}\n",
    "    # Combinatoria de los atributos del dataset para\n",
    "    # elegir todos los pares de caracteristicas\n",
    "    for feature_1 in range(4):\n",
    "        for feature_2 in range(4):\n",
    "            if feature_1 != feature_2:\n",
    "                col1 = iris.data[:, feature_1]\n",
    "                col2 = iris.data[:, feature_2]\n",
    "                X = np.c_[col1, col2]\n",
    "                y = iris.target\n",
    "                \n",
    "                X_train, X_test, y_train, y_test = train_test_split(X, y)\n",
    "                \n",
    "                clf_arbol= DecisionTreeClassifier(max_depth=2, random_state=42)\n",
    "                clf_arbol.fit(X_train, y_train)\n",
    "                scores[iris.feature_names[feature_1]+\" & \"+iris.feature_names[feature_2]]=accuracy_score(y_test, clf_arbol.predict(X_test))\n",
    "    return scores"
   ]
  },
  {
   "cell_type": "code",
   "execution_count": 85,
   "metadata": {},
   "outputs": [
    {
     "data": {
      "image/png": "[encoded data removed]",
      "text/plain": [
       "<Figure size 936x720 with 1 Axes>"
      ]
     },
     "metadata": {},
     "output_type": "display_data"
    },
    {
     "data": {
      "image/png": "[encoded data removed]",
      "text/plain": [
       "<Figure size 936x720 with 1 Axes>"
      ]
     },
     "metadata": {},
     "output_type": "display_data"
    },
    {
     "data": {
      "image/png": "[encoded data removed]",
      "text/plain": [
       "<Figure size 936x720 with 1 Axes>"
      ]
     },
     "metadata": {},
     "output_type": "display_data"
    }
   ],
   "source": [
    "results = modif_tree_model()\n",
    "\n",
    "import matplotlib.pyplot as plt\n",
    "for i in range(3):\n",
    "    plt.figure(figsize=(13, 10))\n",
    "    plt.subplot(3, 1, i+1)\n",
    "    r_plot = dict(list(results.items())[3*i:3*(i+1)])\n",
    "    plt.bar(range(len(r_plot)), list(r_plot.values()), align='center')\n",
    "    plt.xticks(range(len(r_plot)), list(r_plot.keys()))\n",
    "plt.show()\n"
   ]
  },
  {
   "cell_type": "markdown",
   "metadata": {},
   "source": [
    "Podemos observar algunas combinaciones de *features* de las cuales se obtienen mejores o peores scores simples de **accuracy**, revisando así la influencia en los resultados"
   ]
  },
  {
   "cell_type": "markdown",
   "metadata": {},
   "source": [
    "### 3. Lea una [explicación de los árboles de decisión](http://scikit-learn.org/stable/modules/tree.html) y luego mire la [documentación] de la función para ver qué parámetros existen. ¿Qué consejos les dan para uso práctico?\n",
    "\n",
    "* Los árboles de desición tienden a producir *overfitting* al usar muchos *features*. Es bueno balancear el ratio de muestras-*features.\n",
    "* Es recomendable usar un algoritmo de reducción de dimensión o de selección de características previo al entrenamiento\n",
    "* Usando *export_graphviz* se puede manejar iterativamente el proceso de formación del árbol, ideal para revisar detalles\n",
    "* Controlar atributos como *max_depth*, *min_samples_split* o *min_samples_leaf* es ideal para revisar el overfitting, a mayor minimo se generalizará más el modelo\n",
    "* Balancear el dataset. Hasta entes de leer estas recomendaciones creía que la entropía (que era el unico criterio que conocia para homogeneizar las divisiones en el árbol) se encargaría de todo, pero tiene sentido que se entrene el mismo árbol con un número equivalente de muestras de cada clase.\n",
    "* Si la matriz de datos $X$ es muy *sparse* se recomienda convertirla a *sparse csc_matrix* antes de usar *fit()*, y concluir con otra conversión a *sparse csr_matrix* antes de usar *predict()*\n",
    " \n",
    "### 4. (Obligatorio) Ten en cuenta que la ganancia de información no es el criterio de selección predeterminado. ¿Cómo cambiamos eso? (Experimenta con esto en tu respuesta). ¿Cómo se compara el valor predeterminado con la ganancia de información? Aquí hay una [publicación](http://haohanw.blogspot.com/2014/08/ml-decision-tree-rule-selection.html) con información útil."
   ]
  },
  {
   "cell_type": "markdown",
   "metadata": {},
   "source": [
    "**Rpta:** Podemos cambiar esto en el modelo usando el argumento *criterion=’gini’*, cambiando *gini* por *entropy*."
   ]
  },
  {
   "cell_type": "code",
   "execution_count": 86,
   "metadata": {},
   "outputs": [],
   "source": [
    "def modif_tree_model2():\n",
    "    scores = {}\n",
    "    # Combinatoria de los atributos del dataset para\n",
    "    # elegir todos los pares de caracteristicas\n",
    "    for feature_1 in range(4):\n",
    "        for feature_2 in range(4):\n",
    "            if feature_1 != feature_2:\n",
    "                col1 = iris.data[:, feature_1]\n",
    "                col2 = iris.data[:, feature_2]\n",
    "                X = np.c_[col1, col2]\n",
    "                y = iris.target\n",
    "                \n",
    "                X_train, X_test, y_train, y_test = train_test_split(X, y)\n",
    "                \n",
    "                clf_arbol= DecisionTreeClassifier(max_depth=2, random_state=42, criterion='entropy')\n",
    "                clf_arbol.fit(X_train, y_train)\n",
    "                scores[iris.feature_names[feature_1]+\" & \"+iris.feature_names[feature_2]]=accuracy_score(y_test, clf_arbol.predict(X_test))\n",
    "    return scores"
   ]
  },
  {
   "cell_type": "code",
   "execution_count": 87,
   "metadata": {},
   "outputs": [
    {
     "data": {
      "image/png": "[encoded data removed]",
      "text/plain": [
       "<Figure size 936x720 with 1 Axes>"
      ]
     },
     "metadata": {},
     "output_type": "display_data"
    },
    {
     "data": {
      "image/png": "[encoded data removed]",
      "text/plain": [
       "<Figure size 936x720 with 1 Axes>"
      ]
     },
     "metadata": {},
     "output_type": "display_data"
    },
    {
     "data": {
      "image/png": "[encoded data removed]",
      "text/plain": [
       "<Figure size 936x720 with 1 Axes>"
      ]
     },
     "metadata": {},
     "output_type": "display_data"
    }
   ],
   "source": [
    "results2 = modif_tree_model()\n",
    "\n",
    "import matplotlib.pyplot as plt\n",
    "for i in range(3):\n",
    "    plt.figure(figsize=(13, 10))\n",
    "    plt.subplot(3, 1, i+1)\n",
    "    r_plot = dict(list(results2.items())[3*i:3*(i+1)])\n",
    "    plt.bar(range(len(r_plot)), list(r_plot.values()), align='center')\n",
    "    plt.xticks(range(len(r_plot)), list(r_plot.keys()))\n",
    "plt.show()"
   ]
  },
  {
   "cell_type": "markdown",
   "metadata": {},
   "source": [
    "El valor predeterminado (**Gini Impurity**) trabaja de manera aleatoria, intentando clasificar el siguiente dato en una clase aleatoria y midiendo qué tan probable es que dicha clasificación sea errónea, mientras que la **Entropía** de toda la vida solo revisa que tanta información se ganó antes y después de generar una bifurcación de decisión."
   ]
  },
  {
   "cell_type": "markdown",
   "metadata": {},
   "source": [
    "### 5. `max_depth` se establece en 2. ¿Cómo se relaciona esto con nuestra discusión de sobreajuste? ¿Cómo evitamos el uso de `max_depth`? ¿Puedes encontrar otros parámetros para evitar el sobreajuste?. Muestra en código esos cambios."
   ]
  },
  {
   "cell_type": "markdown",
   "metadata": {},
   "source": [
    "**Rpta:** Para el entrenamiento del modelo es evidente: a mayor profundidad del árbol más complejidad presentará el modelo, y como consecuencia memorizará el set de entrenamiento icurriendo en *overfitting*\n",
    "Para evitar el uso de max_depth podemos preparar la data con *reducción de dimensionalidad* o *selección de features*, además de balancear la data de entrenamiento para evitar el sobre-aprendizaje.\n",
    "Otros parámetros de ajuste pueden ser **min_samples_split** o **min_samples_leaf** para poder controlar **la mínima cantidad de muestras requeridas para partir un nodo** o **la cantidad mínima de muestras requeridas para ser una hoja** , respectivamente."
   ]
  },
  {
   "cell_type": "code",
   "execution_count": 91,
   "metadata": {},
   "outputs": [
    {
     "data": {
      "text/plain": [
       "DecisionTreeClassifier(class_weight=None, criterion='gini', max_depth=2,\n",
       "            max_features=None, max_leaf_nodes=None,\n",
       "            min_impurity_decrease=0.0, min_impurity_split=None,\n",
       "            min_samples_leaf=1, min_samples_split=2,\n",
       "            min_weight_fraction_leaf=0.0, presort=False, random_state=42,\n",
       "            splitter='best')"
      ]
     },
     "execution_count": 91,
     "metadata": {},
     "output_type": "execute_result"
    }
   ],
   "source": [
    "# Programando lo establecido\n",
    "\n",
    "best_tree = DecisionTreeClassifier(random_state=42, max_depth=None, min_samples_split=4, min_samples_leaf=2)\n",
    "X = iris.data[:, 2:]\n",
    "y = iris.target\n",
    "\n",
    "best_tree= DecisionTreeClassifier(max_depth=2, random_state=42)\n",
    "best_tree.fit(X, y)"
   ]
  },
  {
   "cell_type": "markdown",
   "metadata": {},
   "source": [
    "### Visualizando el árbol"
   ]
  },
  {
   "cell_type": "code",
   "execution_count": 113,
   "metadata": {},
   "outputs": [],
   "source": [
    "from sklearn.tree import export_graphviz\n",
    "\n",
    "export_graphviz(\n",
    "        clf_arbol,\n",
    "        out_file=\"iris_arbol\",\n",
    "        feature_names=iris.feature_names[2:],\n",
    "        class_names=iris.target_names,\n",
    "        rounded=True,\n",
    "        filled=True\n",
    "    )\n",
    "# No pude mostrar el arbol resultante por problemas con los paquetes sobre jupyter notebook"
   ]
  },
  {
   "cell_type": "markdown",
   "metadata": {},
   "source": [
    "- ¿Qué características están en su árbol de decisión?. ¿ Cuantos nodos? -¿Cuáles son las distribuciones de clase para las hojas?."
   ]
  },
  {
   "cell_type": "markdown",
   "metadata": {},
   "source": [
    "### Visualizando la frontera de decisión"
   ]
  },
  {
   "cell_type": "code",
   "execution_count": 114,
   "metadata": {},
   "outputs": [
    {
     "data": {
      "image/png": "[encoded data removed]",
      "text/plain": [
       "<Figure size 576x288 with 1 Axes>"
      ]
     },
     "metadata": {},
     "output_type": "display_data"
    }
   ],
   "source": [
    "from matplotlib.colors import ListedColormap\n",
    "\n",
    "def decision_frontera(clf, X, y, axes=[0, 7.5, 0, 3], iris=True, legend=False, plot_training=True):\n",
    "    x1s = np.linspace(axes[0], axes[1], 100)\n",
    "    x2s = np.linspace(axes[2], axes[3], 100)\n",
    "    x1, x2 = np.meshgrid(x1s, x2s)\n",
    "    X_nuevo = np.c_[x1.ravel(), x2.ravel()]\n",
    "    y_pred = clf.predict(X_nuevo).reshape(x1.shape)\n",
    "    custom_cmap = ListedColormap(['#fafab0','#9898ff','#a0faa0'])\n",
    "    plt.contourf(x1, x2, y_pred, alpha=0.3, cmap=custom_cmap)\n",
    "    if not iris:\n",
    "        custom_cmap2 = ListedColormap(['#7d7d58','#4c4c7f','#507d50'])\n",
    "        plt.contour(x1, x2, y_pred, cmap=custom_cmap2, alpha=0.8)\n",
    "    if plot_training:\n",
    "        plt.plot(X[:, 0][y==0], X[:, 1][y==0], \"yo\", label=\"Iris-Setosa\")\n",
    "        plt.plot(X[:, 0][y==1], X[:, 1][y==1], \"bs\", label=\"Iris-Versicolor\")\n",
    "        plt.plot(X[:, 0][y==2], X[:, 1][y==2], \"g^\", label=\"Iris-Virginica\")\n",
    "        plt.axis(axes)\n",
    "    if iris:\n",
    "        plt.xlabel(\"Longitud de petalo\", fontsize=14)\n",
    "        plt.ylabel(\"Ancho de petalo\", fontsize=14)\n",
    "    else:\n",
    "        plt.xlabel(r\"$x_1$\", fontsize=18)\n",
    "        plt.ylabel(r\"$x_2$\", fontsize=18, rotation=0)\n",
    "    if legend:\n",
    "        plt.legend(loc=\"lower right\", fontsize=14)\n",
    "\n",
    "plt.figure(figsize=(8, 4))\n",
    "decision_frontera(clf_arbol, X, y)\n",
    "plt.plot([2.45, 2.45], [0, 3], \"k-\", linewidth=2)\n",
    "plt.plot([2.45, 7.5], [1.75, 1.75], \"k--\", linewidth=2)\n",
    "plt.plot([4.95, 4.95], [0, 1.75], \"k:\", linewidth=2)\n",
    "plt.plot([4.85, 4.85], [1.75, 3], \"k:\", linewidth=2)\n",
    "plt.text(1.40, 1.0, \"Profundidad=0\", fontsize=15)\n",
    "plt.text(3.2, 1.80, \"Profundidad=1\", fontsize=13)\n",
    "plt.text(4.05, 0.5, \"(Profundidad=2)\", fontsize=11)\n",
    "\n",
    "plt.show()"
   ]
  },
  {
   "cell_type": "markdown",
   "metadata": {},
   "source": [
    "- Compare su árbol de decisión con el espacio de decisión y anote cualquier correspondencia.\n",
    "- Modificar el modelo de tu árbol (por ejemplo, diferente profundidad, diferentes criterios de selección). Reescribe tu figura y compara. Es posible que desee cambiar el nombre de la figura para que no se sobrescriba cada vez."
   ]
  },
  {
   "cell_type": "code",
   "execution_count": 8,
   "metadata": {},
   "outputs": [],
   "source": [
    "# Tus respuestas"
   ]
  },
  {
   "cell_type": "markdown",
   "metadata": {},
   "source": [
    "### Predeciendo clases\n",
    "\n",
    "Una vez que tenga un modelo (árbol), querrá usarlo para hacer predicciones. Las siguientes dos líneas de código muestran dos predicciones diferentes en un ejemplo de prueba `x = [5,1.5]`:"
   ]
  },
  {
   "cell_type": "code",
   "execution_count": 9,
   "metadata": {},
   "outputs": [
    {
     "data": {
      "text/plain": [
       "array([[0.        , 0.90740741, 0.09259259]])"
      ]
     },
     "execution_count": 9,
     "metadata": {},
     "output_type": "execute_result"
    }
   ],
   "source": [
    "clf_arbol.predict_proba([[5, 1.5]])\n"
   ]
  },
  {
   "cell_type": "code",
   "execution_count": 10,
   "metadata": {},
   "outputs": [
    {
     "data": {
      "text/plain": [
       "array([1])"
      ]
     },
     "execution_count": 10,
     "metadata": {},
     "output_type": "execute_result"
    }
   ],
   "source": [
    "clf_arbol.predict([[5, 1.5]])"
   ]
  },
  {
   "cell_type": "markdown",
   "metadata": {},
   "source": [
    "### A. Cuál es la diferencia entre estas dos opciones?\n",
    "El primero predice la probabilidad de clasificación para el par (5, 1.5), resultando más probable que pertenezca a la segunda clase; mientras que la segunda predice dicha clase directamente.\n",
    "\n",
    "### B. ¿Cómo se determinan las probabilidades?\n",
    "De la documentación:\n",
    "\"La probabilidad de la predicción de una clase a partir de un output ingresado se calcula como \\[...\\] la fracción (ratio) de muestras de una misma clase en una hoja.\"\n",
    "\n",
    "Es decir, casos favorables entre casos totales. Directamente\n"
   ]
  },
  {
   "cell_type": "markdown",
   "metadata": {},
   "source": [
    "### Sensibilidad a los detalles del conjunto de entrenamiento.\n",
    "\n",
    "Los árboles de decisión tienden a ser sensibles a pequeños cambios en el conjunto de datos. Haremos un experimento para entender esto. Primero, eliminemos el pétalo más ancho del conjunto de entrenamiento (longitud de `4.8` cm y ancho de `1.8` cm):"
   ]
  },
  {
   "cell_type": "code",
   "execution_count": 12,
   "metadata": {},
   "outputs": [
    {
     "data": {
      "text/plain": [
       "array([[4.8, 1.8]])"
      ]
     },
     "execution_count": 12,
     "metadata": {},
     "output_type": "execute_result"
    }
   ],
   "source": [
    "X[(X[:, 1]==X[:, 1][y==1].max()) & (y==1)] "
   ]
  },
  {
   "cell_type": "code",
   "execution_count": 13,
   "metadata": {},
   "outputs": [
    {
     "data": {
      "text/plain": [
       "DecisionTreeClassifier(class_weight=None, criterion='gini', max_depth=2,\n",
       "            max_features=None, max_leaf_nodes=None,\n",
       "            min_impurity_decrease=0.0, min_impurity_split=None,\n",
       "            min_samples_leaf=1, min_samples_split=2,\n",
       "            min_weight_fraction_leaf=0.0, presort=False, random_state=40,\n",
       "            splitter='best')"
      ]
     },
     "execution_count": 13,
     "metadata": {},
     "output_type": "execute_result"
    }
   ],
   "source": [
    "no_ancho_versicolor = (X[:, 1]!=1.8) | (y==2) # Encuentra índices de ejemplos que no sean de ancho máximo.\n",
    "X_d= X[no_ancho_versicolor] # creamos un conjunto de entrenamiento con los pétalos más anchos removidos\n",
    "y_d = y[no_ancho_versicolor]\n",
    "\n",
    "clf_arbol_d = DecisionTreeClassifier(max_depth=2, random_state=40) \n",
    "clf_arbol_d.fit(X_d, y_d)"
   ]
  },
  {
   "cell_type": "markdown",
   "metadata": {},
   "source": [
    "Dibujamos el nuevo resultado:"
   ]
  },
  {
   "cell_type": "code",
   "execution_count": 14,
   "metadata": {},
   "outputs": [
    {
     "data": {
      "image/png": "[encoded data removed]",
      "text/plain": [
       "<Figure size 576x288 with 1 Axes>"
      ]
     },
     "metadata": {},
     "output_type": "display_data"
    }
   ],
   "source": [
    "plt.figure(figsize=(8, 4))\n",
    "decision_frontera(clf_arbol_d, X_d, y_d, legend=False)\n",
    "plt.plot([0, 7.5], [0.8, 0.8], \"k-\", linewidth=2)\n",
    "plt.plot([0, 7.5], [1.75, 1.75], \"k--\", linewidth=2)\n",
    "plt.text(1.0, 0.9, \"Profundidad=0\", fontsize=15)\n",
    "plt.text(1.0, 1.80, \"Profundidad=1\", fontsize=13)\n",
    "plt.show()"
   ]
  },
  {
   "cell_type": "markdown",
   "metadata": {},
   "source": [
    "### C. ¿Cómo difiere esto de la frontera de decisión anterior? ¿Hay alguna manera de mitigar este efecto?"
   ]
  },
  {
   "cell_type": "markdown",
   "metadata": {},
   "source": [
    "El eliminar el dato máximo del conjunto de entrenamiento supone que el criterio de bifurcación del nodo que establecía si un dato presentaba dimensiones entre dicho máximo y otro margen (como algún cuartil del rango de dimensiones) se desplace a usar otro nuevo valor o a secas no considerar dicha bifurcación a dicha profundidad en el árbol, lo cual sucede en este caso. Para mitigar este efecto podríamos *considerar un max_depth mayor* (pudiendo incurrir en overfitting) o *variar los min_samples_split o min_samples_leaf* para aumentar"
   ]
  }
 ],
 "metadata": {
  "kernelspec": {
   "display_name": "Python 3",
   "language": "python",
   "name": "python3"
  },
  "language_info": {
   "codemirror_mode": {
    "name": "ipython",
    "version": 3
   },
   "file_extension": ".py",
   "mimetype": "text/x-python",
   "name": "python",
   "nbconvert_exporter": "python",
   "pygments_lexer": "ipython3",
   "version": "3.6.5"
  }
 },
 "nbformat": 4,
 "nbformat_minor": 2
}
