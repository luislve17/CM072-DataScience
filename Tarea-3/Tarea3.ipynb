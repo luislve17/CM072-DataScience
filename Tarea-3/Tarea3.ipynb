{
 "cells": [
  {
   "cell_type": "markdown",
   "metadata": {},
   "source": [
    "### Tarea 3 del curso CM-072\n",
    "\n",
    "* Nombre y apellidos: Luis Vasquez Espinoza\n",
    "* Fecha de presentación: 27 de setiembre\n",
    "\n",
    "Esta tarea utiliza un pequeño subconjunto de los datos de la competencia de Kaggle  [Yelp Business Rating Prediction ](https://www.kaggle.com/c/yelp-recsys-2013).\n",
    "\n",
    "* Descripción de la data\n",
    "    - `yelp.json` es el formato original del archivo y `yelp.csv` contiene los mismos datos, en un formato más conveniente. Ambos archivos están en esta carpeta de la tarea, por lo que no es necesario descargar los datos del sitio web de Kaggle.\n"
   ]
  },
  {
   "cell_type": "markdown",
   "metadata": {},
   "source": [
    "## Preguntas\n",
    "\n",
    "1. Lee yelp.csv en un DataFrame."
   ]
  },
  {
   "cell_type": "code",
   "execution_count": 2,
   "metadata": {},
   "outputs": [
    {
     "name": "stdout",
     "output_type": "stream",
     "text": [
      "<class 'pandas.core.frame.DataFrame'>\n",
      "RangeIndex: 10000 entries, 0 to 9999\n",
      "Data columns (total 10 columns):\n",
      "business_id    10000 non-null object\n",
      "date           10000 non-null object\n",
      "review_id      10000 non-null object\n",
      "stars          10000 non-null int64\n",
      "text           10000 non-null object\n",
      "type           10000 non-null object\n",
      "user_id        10000 non-null object\n",
      "cool           10000 non-null int64\n",
      "useful         10000 non-null int64\n",
      "funny          10000 non-null int64\n",
      "dtypes: int64(4), object(6)\n",
      "memory usage: 781.3+ KB\n"
     ]
    }
   ],
   "source": [
    "# Tu solución\n",
    "\n",
    "import pandas as pd\n",
    "\n",
    "yelp_df = pd.read_csv(\"yelp.csv\")\n",
    "yelp_df.info()"
   ]
  },
  {
   "cell_type": "markdown",
   "metadata": {},
   "source": [
    "2. Crea un nuevo DataFrame que solo contenga las reseñas de 5 estrellas y 1 estrella."
   ]
  },
  {
   "cell_type": "code",
   "execution_count": 3,
   "metadata": {},
   "outputs": [
    {
     "name": "stdout",
     "output_type": "stream",
     "text": [
      "[5 1]\n"
     ]
    },
    {
     "data": {
      "text/html": [
       "<div>\n",
       "<style scoped>\n",
       "    .dataframe tbody tr th:only-of-type {\n",
       "        vertical-align: middle;\n",
       "    }\n",
       "\n",
       "    .dataframe tbody tr th {\n",
       "        vertical-align: top;\n",
       "    }\n",
       "\n",
       "    .dataframe thead th {\n",
       "        text-align: right;\n",
       "    }\n",
       "</style>\n",
       "<table border=\"1\" class=\"dataframe\">\n",
       "  <thead>\n",
       "    <tr style=\"text-align: right;\">\n",
       "      <th></th>\n",
       "      <th>business_id</th>\n",
       "      <th>date</th>\n",
       "      <th>review_id</th>\n",
       "      <th>stars</th>\n",
       "      <th>text</th>\n",
       "      <th>type</th>\n",
       "      <th>user_id</th>\n",
       "      <th>cool</th>\n",
       "      <th>useful</th>\n",
       "      <th>funny</th>\n",
       "    </tr>\n",
       "  </thead>\n",
       "  <tbody>\n",
       "    <tr>\n",
       "      <th>3879</th>\n",
       "      <td>L9UYbtAUOcfTgZFimehlXw</td>\n",
       "      <td>2010-05-10</td>\n",
       "      <td>d4xvZqNV6UpeXx8IwQkIhQ</td>\n",
       "      <td>5</td>\n",
       "      <td>Finally, a great place to get breakfast that i...</td>\n",
       "      <td>review</td>\n",
       "      <td>_y4Pa5ZFpz4ycpqevBr-gw</td>\n",
       "      <td>0</td>\n",
       "      <td>0</td>\n",
       "      <td>0</td>\n",
       "    </tr>\n",
       "    <tr>\n",
       "      <th>562</th>\n",
       "      <td>F-ZOeAK1v7e5Rt2Mv5rVMw</td>\n",
       "      <td>2010-09-22</td>\n",
       "      <td>6BVDp3xFEJr7vgHyWyFr6g</td>\n",
       "      <td>5</td>\n",
       "      <td>Okay I have found my new favorite \"home office...</td>\n",
       "      <td>review</td>\n",
       "      <td>WEuIqh8ygm-bH81s8lwD0g</td>\n",
       "      <td>11</td>\n",
       "      <td>15</td>\n",
       "      <td>5</td>\n",
       "    </tr>\n",
       "    <tr>\n",
       "      <th>8956</th>\n",
       "      <td>ShUSw5yD7EFWBOiq_CuHMQ</td>\n",
       "      <td>2010-03-16</td>\n",
       "      <td>3cnyJU2lCKG4qc3zatEslA</td>\n",
       "      <td>5</td>\n",
       "      <td>I took my computer to RedSeven recently when m...</td>\n",
       "      <td>review</td>\n",
       "      <td>TxOR39w0Mlbd4h1siXyb_w</td>\n",
       "      <td>2</td>\n",
       "      <td>3</td>\n",
       "      <td>1</td>\n",
       "    </tr>\n",
       "    <tr>\n",
       "      <th>3315</th>\n",
       "      <td>jRfdz5voj40P6WS9L54caw</td>\n",
       "      <td>2011-09-16</td>\n",
       "      <td>2gfW7UgSeSAkxTXT60Ye_w</td>\n",
       "      <td>5</td>\n",
       "      <td>I've been meaning to try this place for months...</td>\n",
       "      <td>review</td>\n",
       "      <td>Ygda3eaZvqGTguTJLTZp5A</td>\n",
       "      <td>0</td>\n",
       "      <td>0</td>\n",
       "      <td>0</td>\n",
       "    </tr>\n",
       "  </tbody>\n",
       "</table>\n",
       "</div>"
      ],
      "text/plain": [
       "                 business_id        date               review_id  stars  \\\n",
       "3879  L9UYbtAUOcfTgZFimehlXw  2010-05-10  d4xvZqNV6UpeXx8IwQkIhQ      5   \n",
       "562   F-ZOeAK1v7e5Rt2Mv5rVMw  2010-09-22  6BVDp3xFEJr7vgHyWyFr6g      5   \n",
       "8956  ShUSw5yD7EFWBOiq_CuHMQ  2010-03-16  3cnyJU2lCKG4qc3zatEslA      5   \n",
       "3315  jRfdz5voj40P6WS9L54caw  2011-09-16  2gfW7UgSeSAkxTXT60Ye_w      5   \n",
       "\n",
       "                                                   text    type  \\\n",
       "3879  Finally, a great place to get breakfast that i...  review   \n",
       "562   Okay I have found my new favorite \"home office...  review   \n",
       "8956  I took my computer to RedSeven recently when m...  review   \n",
       "3315  I've been meaning to try this place for months...  review   \n",
       "\n",
       "                     user_id  cool  useful  funny  \n",
       "3879  _y4Pa5ZFpz4ycpqevBr-gw     0       0      0  \n",
       "562   WEuIqh8ygm-bH81s8lwD0g    11      15      5  \n",
       "8956  TxOR39w0Mlbd4h1siXyb_w     2       3      1  \n",
       "3315  Ygda3eaZvqGTguTJLTZp5A     0       0      0  "
      ]
     },
     "execution_count": 3,
     "metadata": {},
     "output_type": "execute_result"
    }
   ],
   "source": [
    "# Tu solucion\n",
    "new_df = yelp_df.loc[(yelp_df.stars == 1) | (yelp_df.stars == 5)]\n",
    "print(new_df.stars.unique())\n",
    "new_df.sample(4)"
   ]
  },
  {
   "cell_type": "markdown",
   "metadata": {},
   "source": [
    "3. Divide el nuevo DataFrame en conjuntos de entrenamiento y prueba, usando el texto de revisión como la única característica y la calificación de estrellas como respuesta."
   ]
  },
  {
   "cell_type": "code",
   "execution_count": 4,
   "metadata": {},
   "outputs": [],
   "source": [
    "# Tu solucion\n",
    "from sklearn.model_selection import train_test_split\n",
    "\n",
    "X_train, X_test, y_train, y_test = train_test_split(new_df.text, new_df.stars, random_state=123)"
   ]
  },
  {
   "cell_type": "markdown",
   "metadata": {},
   "source": [
    "4. Usa `CountVectorizer` para crear [matrices de términos de documentos](https://en.wikipedia.org/wiki/Document-term_matrix) de `X_entrenamiento` y `X_prueba`.\n"
   ]
  },
  {
   "cell_type": "code",
   "execution_count": 5,
   "metadata": {},
   "outputs": [],
   "source": [
    "# Tu solucion\n",
    "from sklearn.feature_extraction.text import CountVectorizer\n",
    "\n",
    "cv = CountVectorizer()\n",
    "X_train_term_matrix = cv.fit_transform(X_train)\n",
    "X_test_term_matrix = cv.transform(X_test)"
   ]
  },
  {
   "cell_type": "markdown",
   "metadata": {},
   "source": [
    "5. Usa Naive Bayes para predecir la calificación de estrellas para las revisiones en el conjunto de prueba y calcula la precisión."
   ]
  },
  {
   "cell_type": "code",
   "execution_count": 6,
   "metadata": {},
   "outputs": [
    {
     "name": "stdout",
     "output_type": "stream",
     "text": [
      "0.9099804305283757\n"
     ]
    }
   ],
   "source": [
    "# Tu solucion\n",
    "from sklearn.naive_bayes import MultinomialNB\n",
    "from sklearn.metrics import accuracy_score\n",
    "\n",
    "m_naive_bayes = MultinomialNB()\n",
    "m_naive_bayes.fit(X_train_term_matrix, y_train)\n",
    "\n",
    "# Calculando presicion\n",
    "print (accuracy_score(y_test, m_naive_bayes.predict(X_test_term_matrix)))"
   ]
  },
  {
   "cell_type": "markdown",
   "metadata": {},
   "source": [
    "6. Calcula el AUC."
   ]
  },
  {
   "cell_type": "code",
   "execution_count": 7,
   "metadata": {},
   "outputs": [
    {
     "name": "stdout",
     "output_type": "stream",
     "text": [
      "Orden de las clases:  [1 5]\n",
      "ROC AUC score:  0.9410858359480054\n"
     ]
    }
   ],
   "source": [
    "# Tu solucion\n",
    "\n",
    "# Nota: De la documentacion: http://scikit-learn.org/stable/modules/generated/sklearn.metrics.roc_auc_score.html\n",
    "# Se explica que el metodo 'roc_auc_score()' solo se usa para clasificacion binaria o\n",
    "# clasificacion multiclase en formato 'label indicator'\n",
    "# Se tendra que pasar 'y_test' a binario:\n",
    "\n",
    "import numpy as np\n",
    "from sklearn.metrics import roc_auc_score\n",
    "\n",
    "y_test_bin = np.floor(y_test/5)\n",
    "\n",
    "# Revisemos el orden en el que se almacenaran las probs. de prediccion del clasificador de bayes\n",
    "print(\"Orden de las clases: \", m_naive_bayes.classes_)\n",
    "# Observamos que el positivo en binario que prepare (el '5') esta en la segunda columna\n",
    "# Columna que utilizaremos para el score\n",
    "\n",
    "predicted_prob = m_naive_bayes.predict_proba(X_test_term_matrix)[:, 1]\n",
    "print(\"ROC AUC score: \", roc_auc_score(y_test_bin, predicted_prob))"
   ]
  },
  {
   "cell_type": "markdown",
   "metadata": {},
   "source": [
    "7. Dibuja la curva ROC."
   ]
  },
  {
   "cell_type": "code",
   "execution_count": 15,
   "metadata": {},
   "outputs": [
    {
     "data": {
      "image/png": "[encoded data removed]",
      "text/plain": [
       "<Figure size 432x288 with 1 Axes>"
      ]
     },
     "metadata": {},
     "output_type": "display_data"
    }
   ],
   "source": [
    "# Tu solucion\n",
    "import matplotlib.pyplot as plt\n",
    "from sklearn.metrics import roc_curve\n",
    "\n",
    "%matplotlib inline\n",
    "\n",
    "fpr, tpr, _ = roc_curve(y_test_bin, predicted_prob)\n",
    "plt.plot(fpr, tpr)\n",
    "plt.show()"
   ]
  },
  {
   "cell_type": "markdown",
   "metadata": {},
   "source": [
    "8. Imprime la matriz de confusión y calcule la sensibilidad y especificidad. Comenta tus resultados."
   ]
  },
  {
   "cell_type": "code",
   "execution_count": 9,
   "metadata": {},
   "outputs": [
    {
     "name": "stdout",
     "output_type": "stream",
     "text": [
      "Matriz de confusion:\n",
      " [[118  76]\n",
      " [ 16 812]]\n",
      "Sensibilidad: 0.9806763285024155\n",
      "Especificidad: 0.6082474226804123\n"
     ]
    }
   ],
   "source": [
    "# Tu solucion\n",
    "from sklearn.metrics import confusion_matrix\n",
    "y_predicted = m_naive_bayes.predict(X_test_term_matrix)\n",
    "\n",
    "# Matriz de confusion\n",
    "cf_mat = confusion_matrix(y_test, y_predicted)\n",
    "print(\"Matriz de confusion:\\n\", cf_mat)\n",
    "\n",
    "# Sensibilidad\n",
    "print(\"Sensibilidad:\", cf_mat[1,1]/(cf_mat[1,0] + cf_mat[1,1]))\n",
    "\n",
    "# Especificidad\n",
    "print(\"Especificidad:\", cf_mat[0,0]/(cf_mat[0,0] + cf_mat[0,1]))"
   ]
  },
  {
   "cell_type": "markdown",
   "metadata": {},
   "source": [
    "* **De la sensibilidad:** Al parecer la clasificación es bastante acertada, el ~98% de las entradas positivas es correctamente clasificada; es decir, se puede captar los comentarios ligados a un buen *review* con un número de estrellas igual a 5. Además, parece que  no hubo problema de overfitting.\n",
    "\n",
    "* **De la especificidad:** Me preocupa que el valor de este campo sea muy bajo debido a la falta de otros *features* en la data de entrenamiento, pero ~60% de falsos bien clasificados (1 estrella) puede evidenciar la ocurrencia dispersa de ciertas palabras; es decir, puede que para los positivos (5 estrellas) se capte correctamente cierto patrón, pero para los negocios con 1 estrella se tengan ocurrencias poco útiles para decir que ese negocio es malo."
   ]
  },
  {
   "cell_type": "markdown",
   "metadata": {},
   "source": [
    "9. (Obligatorio) Examina el texto de la revisión para ver algunos de los falsos positivos y falsos negativos. Según tu conocimiento de cómo funciona Naive Bayes, ¿tienes alguna teoría sobre por qué el modelo clasifica incorrectamente estas evaluaciones?."
   ]
  },
  {
   "cell_type": "code",
   "execution_count": 10,
   "metadata": {},
   "outputs": [
    {
     "name": "stdout",
     "output_type": "stream",
     "text": [
      "==============================\n",
      "Falso positivo: \n",
      "==============================\n",
      " I dined at this restaurant on a Saturday morning and was actually the very first guest.  I got greeted by the hostess and was promptly seated.  The service was phenomenal from when I walked over the door step and the ambiance is the restaurant was amazing .  I ordered the smoked salmon as an appetizer and the daily scallop special as the entree.\n",
      "\n",
      "When my salmon dish came out I said to my self \"WHAT in the hell?\" Two extremely thin slices of salmon, little salad, and a piece of bread with some aioli on the side.  Salmons cheap and they charged me $15 for this crap?  I work in the food industry and the food was crap.\n",
      "\n",
      "Next, the entree.  The waiter described the the scallop dish like it was heaven on earth.  Explaining to me how delicious this special was.  So I took his advice and ordered.  When the dish came out I said to my self again \"What in the HELL?\"  Four small scallops, 2 baby carrots, broccoli rabe, and cilantro sauce.  The scallops weren't seared enough, the broccoli rabe was brown and mush, and the baby carrots were still raw.  The funny thing was.  The sauce didn't even resemble any cilantro flavor at all.  I could of made this dish 1000x better and the entree took a big hit in my wallet, $32 for crap.\n",
      "\n",
      "The meal came out to roughly $60 and I left that restaurant to never try it again.  I could of gotten some pho for $8 would of been a hundred times happier than spending money that wasn't even mediocre.\n",
      "==============================\n",
      "Falso negativo: \n",
      "==============================\n",
      " After unsuccessfully attempting a walk in gel at the posh looking \"Sundrops\" nail salon with my two year old in tow, I was drawn to a half deserted strip mall just down the street and a small space in the center labeled Andy's Nails. I Yelped the place and saw the decent reviews so I walked in and was immediately attended to by the friendliest faces I've seen in a while. Despite the fact that I was short one babysitter, they began work on my nails right away and when my toddler got restless, one of the very nice owners picked her up and carried her around for 20 minutes!  Not only do they now offer Gelish gel manicures but they offer more colors than many other Arcadia/Biltmore/Camelback Corridor nail salons AND they're cheaper by anywhere from $5-$20! I'm definitely going back and going back soon! My toes are lonely...\n"
     ]
    }
   ],
   "source": [
    "# Tu solucion\n",
    "# Falso positivo\n",
    "print(\"==============================\")\n",
    "print(\"Falso positivo: \\n==============================\\n\",X_test[y_test < y_predicted][1297])\n",
    "# Falso negativo\n",
    "print(\"==============================\")\n",
    "print(\"Falso negativo: \\n==============================\\n\",X_test[y_test > y_predicted][8083])\n"
   ]
  },
  {
   "cell_type": "markdown",
   "metadata": {},
   "source": [
    "Considero que el problema de NaiveBayes es asumir que las palabras no tienen contexto; es decir, que la probabilidad de que una palabra arbitraria evidencie un buen (o mal) servicio no dependa de sus palabras vecinas. Tomando por ejemplo la primera reseña (falso positivo), encontramos palabra como *greeted, phenomenal, cheap & better* que dependiendo que por separado pueden tener un peso positivo, pero si asociamos lo *cheap* con algo 'corriente' se cambia la idea en función al contexto."
   ]
  },
  {
   "cell_type": "markdown",
   "metadata": {},
   "source": [
    "10. Imaginemos que deseas equilibrar la sensibilidad y la especificidad. Puedes lograr esto cambiando el umbral para predecir una revisión de 5 estrellas. ¿Qué umbral equilibra aproximadamente la sensibilidad y la especificidad?.\n",
    "\n",
    "Sugerencia: Leer-->[Classification vs. Prediction](http://www.fharrell.com/post/classification/)."
   ]
  },
  {
   "cell_type": "code",
   "execution_count": 11,
   "metadata": {},
   "outputs": [
    {
     "name": "stdout",
     "output_type": "stream",
     "text": [
      "Matriz de confusion:\n",
      " [[167  27]\n",
      " [ 83 745]]\n",
      "Sensibilidad: 0.8997584541062802\n",
      "Especificidad: 0.8608247422680413\n"
     ]
    }
   ],
   "source": [
    "# Tu solucion\n",
    "# Me imagino que cuando usted pide \"equilibrar\" las metricas de la matriz de confusion espera que de alguna manera se\n",
    "# muevan falsos positivos a negativos correctamente clasificados, y falsos negativos a positivos correctamente clasificados\n",
    "# Cambiar el umbral de supone asignar nuevas probabilidades a encontrar un \"1\" o un \"5\" YA HECHO EL AJUSTE\n",
    "\n",
    "margen = 0.995 # <--- moviendo este numerito hasta mejorar ambos\n",
    "y_pred_class = np.where(predicted_prob > margen, 5, 1)\n",
    "\n",
    "new_cf_mat = confusion_matrix(y_test, y_pred_class)\n",
    "print(\"Matriz de confusion:\\n\", new_cf_mat)\n",
    "\n",
    "# Sensibilidad\n",
    "print(\"Sensibilidad:\", new_cf_mat[1,1]/(new_cf_mat[1,0] + new_cf_mat[1,1]))\n",
    "\n",
    "# Especificidad\n",
    "print(\"Especificidad:\", new_cf_mat[0,0]/(new_cf_mat[0,0] + new_cf_mat[0,1]))"
   ]
  },
  {
   "cell_type": "markdown",
   "metadata": {},
   "source": [
    "11. (Obligatorio) Veamos qué tan bien se comporta Naive Bayes cuando se incluyen todas las revisiones, en lugar de solo reseñas de 1 estrella y 5 estrellas:\n",
    "\n",
    "    * Define X e y usando el DataFrame original del paso 1 (debe contener 5 clases diferentes).\n",
    "    * Divide los datos en conjuntos de entrenamiento y prueba.\n",
    "    * Calcula la precisión de prueba de un modelo de Naive Bayes.\n",
    "    * Compara la precisión de la prueba con la precisión nula.\n",
    "    * Muestra la matriz de confusión.\n",
    "    * Comenta los resultados."
   ]
  },
  {
   "cell_type": "code",
   "execution_count": 18,
   "metadata": {},
   "outputs": [
    {
     "name": "stdout",
     "output_type": "stream",
     "text": [
      "0.4912\n",
      "Prueba nula: 0.3337 vs 0.4912\n",
      "[[ 55  18  18  68  15]\n",
      " [ 24  12  48 136  29]\n",
      " [  3   6  39 268  33]\n",
      " [ 10   1  23 642 231]\n",
      " [  4   0   4 333 480]]\n"
     ]
    },
    {
     "data": {
      "text/plain": [
       "<matplotlib.image.AxesImage at 0x7f0b34bd0780>"
      ]
     },
     "execution_count": 18,
     "metadata": {},
     "output_type": "execute_result"
    },
    {
     "data": {
      "image/png": "[encoded data removed]",
      "text/plain": [
       "<Figure size 432x288 with 1 Axes>"
      ]
     },
     "metadata": {},
     "output_type": "display_data"
    }
   ],
   "source": [
    "# Tu solucion\n",
    "# A. Define X e y usando el DataFrame original del paso 1 (debe contener 5 clases diferentes)\n",
    "X = yelp_df.text\n",
    "y = yelp_df.stars\n",
    "\n",
    "# B. Divide los datos en conjuntos de entrenamiento y prueba.\n",
    "X_train, X_test, y_train, y_test = train_test_split(X, y, random_state=123)\n",
    "\n",
    "# C. Calcula la precisión de prueba de un modelo de Naive Bayes.\n",
    "new_X_train_term_matrix = cv.fit_transform(X_train)\n",
    "new_X_test_term_matrix = cv.transform(X_test)\n",
    "\n",
    "m_naive_bayes.fit(new_X_train_term_matrix, y_train)\n",
    "y_predicted = m_naive_bayes.predict(new_X_test_term_matrix)\n",
    "print(accuracy_score(y_test, y_predicted))\n",
    "\n",
    "# D. Compara la precisión de la prueba con la precisión nula.\n",
    "print(\"Prueba nula:\", np.floor(y/5).mean(), \"vs\", accuracy_score(y_test, y_predicted))\n",
    "\n",
    "# E. Muestra la matriz de confusión\n",
    "conf_mat = confusion_matrix(y_test, y_predicted)\n",
    "print (conf_mat)\n",
    "plt.imshow(conf_mat)"
   ]
  },
  {
   "cell_type": "markdown",
   "metadata": {},
   "source": [
    "Como se puede observar mejor al plotear la matriz de confusión, las clasificaciones correctas ocurren para las calificaciones altas (4 y 5 estrellas). Ya no se puede hacer un equilibrio de probabilidades como se intentó antes al tener 5 clases y descartar el análisis binario, por lo que lo más acertado sería aplicar el modelo solo para identificar la relacion *reseña* vs *buena calificación*, mapeando la clase **1** a las un número de estrellas en $\\{4, 5\\}$"
   ]
  },
  {
   "cell_type": "markdown",
   "metadata": {},
   "source": [
    "12. (Obligatorio) Lee el siguiente artículo de Paul Graham: [A Plan for Spam](http://www.paulgraham.com/spam.html) y responde las siguientes preguntas:\n",
    "\n",
    "    * ¿Debería un filtro de spam optimizar la sensibilidad o la especificidad, en opinión de Graham?.\n",
    "    * Antes de probar el \"enfoque estadístico\" para el filtrado de spam, ¿cuál era su enfoque?.\n",
    "    * ¿Cuáles son los componentes clave de su sistema de filtrado estadístico? En otras palabras, ¿cómo funciona?.\n",
    "    * ¿Qué menciona Graham sobre los beneficios del enfoque estadístico?.\n",
    "    * ¿Qué tan bueno fue su predicción del \"spam del futuro\"?. "
   ]
  },
  {
   "cell_type": "markdown",
   "metadata": {},
   "source": [
    "## Tus respuestas\n",
    "### a. ¿Debería un filtro de spam optimizar la sensibilidad o la especificidad, en opinión de Graham?\n",
    "Debido a que el autor considera un problema más serio el tener correos buenos eliminados por ser falsos positivos de spam que el mismo spam, el filtro debería optimizar la sensibilidad.\n",
    "\n",
    "### b. Antes de probar el \"enfoque estadístico\" para el filtrado de spam, ¿cuál era su enfoque?\n",
    "Antes de utilizarlo, el autor generaba sus propias reglas de filtrado manualmente para los mensajes, asumiendo que ciertos Strings serían muy probables de estar incluídos en *spam*. Utilizando este método notaba como se detectaban demasiados *falsos positivos* como para que sea un modelo viable y mantenible.\n",
    "\n",
    "### c. ¿Cuáles son los componentes clave de su sistema de filtrado estadístico? En otras palabras, ¿cómo funciona?\n",
    "El autor mantenía 3 tablas hash, contabilizando la ocurrencia de ciertas palabras asumiendo independencia entre ellas. La primera tabla era un conteo de ocurrencia por **tokens**, y la otra las palabras que se encontraban en cada cuerpo. La tercera tabla mapeaba estas dos primeras para hacer una correspondiencia analizable con su método Bayesiano.\n",
    "\n",
    "### d. ¿Qué menciona Graham sobre los beneficios del enfoque estadístico?\n",
    "El autor escribe que cuando empezó a aplicar el análisis estadístico su modelos era mucho mas astuto de lo que el había sido todos los meses que intentó resolver el problema con filtros manuales. Se descubrieron palabras que el no había previsto como buenos indicadores de spam, tales como el color rojo en hexademcial *embedded* en el HTML del correo.\n",
    "La ventaja general que se detalla es la de no tener la necesidad de leer tanto spam (describiendo la analogía de tener que leer mucho spam durante tantos meses); pero que la verdadera ventaja de aplicar el método Bayesiano es que sabes qué estas midiendo, al asignar una probabilidad real que dote de robustez al modelo.\n",
    "\n",
    "### e. ¿Qué tan bueno fue su predicción del \"spam del futuro\"?.\n",
    "Para resolver esta pregunta heché un vistazo al spam de mi correo personal, y encontré esto:\n",
    "\n",
    "![spam_example](https://raw.githubusercontent.com/luislve17/CM072-DataScience/master/Tarea-3/spam.png)\n",
    "\n",
    "Si bien el ejemplo es similar a lo que predecía el autor, google aún puede identificarlo como spam (gracias a que, asumo yo, existe una suma de dinero como String en el mensaje). Aún así, la naturaleza del **mensaje corto con un enlace externo de contacto** es exactamente lo que la predicción esperaba."
   ]
  }
 ],
 "metadata": {
  "kernelspec": {
   "display_name": "Python 3",
   "language": "python",
   "name": "python3"
  },
  "language_info": {
   "codemirror_mode": {
    "name": "ipython",
    "version": 3
   },
   "file_extension": ".py",
   "mimetype": "text/x-python",
   "name": "python",
   "nbconvert_exporter": "python",
   "pygments_lexer": "ipython3",
   "version": "3.6.5"
  }
 },
 "nbformat": 4,
 "nbformat_minor": 2
}
