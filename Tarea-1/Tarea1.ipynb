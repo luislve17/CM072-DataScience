{
 "cells": [
  {
   "cell_type": "markdown",
   "metadata": {},
   "source": [
    "## Tarea 1 del curso CM-072\n",
    "\n",
    "* Nombre y apellidos: Luis Vasquez Espinoza\n",
    "* Fecha de presentación: 11 de setiembre."
   ]
  },
  {
   "cell_type": "markdown",
   "metadata": {},
   "source": [
    "## Lista de preguntas:"
   ]
  },
  {
   "cell_type": "markdown",
   "metadata": {},
   "source": [
    "1 . Responde de acuerdo a los conceptos hechos en clase las siguientes preguntas:\n",
    "   * Supongamos que tenemos la tarea de construir un sistema que pueda distinguir  correo no deseado o spam. ¿Qué crees que hay en un correo electrónico no deseado que nos permite saber que es spam? ¿Cómo puede la computadora detectar spam a través de un análisis sintáctico?. ¿Qué te gustaría que hiciera la computadora si detecta un correo electrónico que es spam?, ¿eliminarlo automáticamente, moverlo a un archivo diferente o simplemente resaltarlo en la pantalla?.\n",
    "   \n",
    "   * ¿Cómo se puede predecir el siguiente comando a ser escrito por un usuario? ¿O la próxima página de la que descargará información en la Web? ¿Cuándo sería útil tal predicción? ¿Cuándo no?."
   ]
  },
  {
   "cell_type": "markdown",
   "metadata": {},
   "source": [
    "1.1 Los elementos de un correo que permiten saber si es spam o no son: el asunto, el contenido y el remitente. Puede que sea usual que el asunto del correo presente letras mayúsculas al ser spam (con la intención de llamar más la atención), o si el contenido contiene algún string especificando un monto de dinero, o si quien envía este correo pertenece a un grupo ya fijado como malicioso. La computadora podría detectar cualquiera de estos elementos con algún sistema de procesamiento de texto, como lexemas o regex, iterando por todo el contenido hasta **encontrar una coincidencia con una regla preestablecida.** Debido a que el sistema puede fallar clasificando mal dichos correos es una buena práctica moverlos a un directorio previo accesible por el usuario, para que así este decida si eliminarlos o no. Solamente resaltarlos sería contraproducente debido a que lo que se desea al clasificar spam es que no estorbe en la bandeja de entrada común.\n",
    "\n",
    "1.2 El sistema de predicciones puede estar basado principalmente en dos factores: **la similitud del comportamiento colectivo y el contexto de dicho comportamiento.** Si muchos usuarios que usen un teclado en un smarthphone insertan la misma secuencia de palabras al utilizar una aplicación específica se genera una regla de predicción. Esta estará basada en la secuencia ingresada (comportamiento) y la aplicación usada (contexto). Se debe entender como comportamiento no solamente lo que el usuario deliveradamente ingrese, sino también cuántas veces lo hace, con que facilidad o dificultad, que tipo de criptología utiliza (variando desde el idioma que usa hasta la sintaxis con la que programa, por nombrar algo), etc; y también se debe entender el contexto como la época en la que realiza la operación, la hora del día o el estado actual de su localía. Todos estos factores harán una **predicción útil** si a medida que pasa el tiempo, más y más usuarios optan por usar la sugerencia ofrecida, y viceversa. Su utilidad entonces, aumentará cuando las condiciones en las que se ofrece sean muy similares a los casos que generaron dicha condición en un primer momento."
   ]
  },
  {
   "cell_type": "markdown",
   "metadata": {},
   "source": [
    "2 . ¿Puedes predecir las especies de un iris usando medidas de pétalos y sépalos?\n",
    "\n",
    "   * Lee los datos del conjunto predeterminado `iris` en un DataFrame de Pandas, incluyendo los nombres de las columnas.\n",
    "   * Recolecta  información básica sobre los datos `iris`  utilizando pandas.\n",
    "   * Utiliza la clasificación, [dividir-aplicar-combinar](https://pandas.pydata.org/pandas-docs/version/0.23.4/groupby.html) y  visualización para buscar las diferencias entre las especies.\n",
    "\n",
    "   * Escribe un conjunto de reglas que podrían usarse para predecir especies en base a las mediciones de iris.\n",
    "   * Define una función que acepte una fila de datos y devuelva una especie pronosticada. Luego, usa esa función para hacer predicciones para todas las filas de datos existentes y verifique la precisión de sus predicciones.\n"
   ]
  },
  {
   "cell_type": "code",
   "execution_count": 2,
   "metadata": {},
   "outputs": [
    {
     "data": {
      "text/html": [
       "<div>\n",
       "<style scoped>\n",
       "    .dataframe tbody tr th:only-of-type {\n",
       "        vertical-align: middle;\n",
       "    }\n",
       "\n",
       "    .dataframe tbody tr th {\n",
       "        vertical-align: top;\n",
       "    }\n",
       "\n",
       "    .dataframe thead th {\n",
       "        text-align: right;\n",
       "    }\n",
       "</style>\n",
       "<table border=\"1\" class=\"dataframe\">\n",
       "  <thead>\n",
       "    <tr style=\"text-align: right;\">\n",
       "      <th></th>\n",
       "      <th>sepal length (cm)</th>\n",
       "      <th>sepal width (cm)</th>\n",
       "      <th>petal length (cm)</th>\n",
       "      <th>petal width (cm)</th>\n",
       "      <th>target</th>\n",
       "    </tr>\n",
       "  </thead>\n",
       "  <tbody>\n",
       "    <tr>\n",
       "      <th>61</th>\n",
       "      <td>5.9</td>\n",
       "      <td>3.0</td>\n",
       "      <td>4.2</td>\n",
       "      <td>1.5</td>\n",
       "      <td>versicolor</td>\n",
       "    </tr>\n",
       "    <tr>\n",
       "      <th>27</th>\n",
       "      <td>5.2</td>\n",
       "      <td>3.5</td>\n",
       "      <td>1.5</td>\n",
       "      <td>0.2</td>\n",
       "      <td>setosa</td>\n",
       "    </tr>\n",
       "    <tr>\n",
       "      <th>91</th>\n",
       "      <td>6.1</td>\n",
       "      <td>3.0</td>\n",
       "      <td>4.6</td>\n",
       "      <td>1.4</td>\n",
       "      <td>versicolor</td>\n",
       "    </tr>\n",
       "    <tr>\n",
       "      <th>8</th>\n",
       "      <td>4.4</td>\n",
       "      <td>2.9</td>\n",
       "      <td>1.4</td>\n",
       "      <td>0.2</td>\n",
       "      <td>setosa</td>\n",
       "    </tr>\n",
       "    <tr>\n",
       "      <th>70</th>\n",
       "      <td>5.9</td>\n",
       "      <td>3.2</td>\n",
       "      <td>4.8</td>\n",
       "      <td>1.8</td>\n",
       "      <td>versicolor</td>\n",
       "    </tr>\n",
       "  </tbody>\n",
       "</table>\n",
       "</div>"
      ],
      "text/plain": [
       "    sepal length (cm)  sepal width (cm)  petal length (cm)  petal width (cm)  \\\n",
       "61                5.9               3.0                4.2               1.5   \n",
       "27                5.2               3.5                1.5               0.2   \n",
       "91                6.1               3.0                4.6               1.4   \n",
       "8                 4.4               2.9                1.4               0.2   \n",
       "70                5.9               3.2                4.8               1.8   \n",
       "\n",
       "        target  \n",
       "61  versicolor  \n",
       "27      setosa  \n",
       "91  versicolor  \n",
       "8       setosa  \n",
       "70  versicolor  "
      ]
     },
     "execution_count": 2,
     "metadata": {},
     "output_type": "execute_result"
    }
   ],
   "source": [
    "from sklearn.datasets import load_iris\n",
    "import pandas as pd\n",
    "\n",
    "iris_data = load_iris()\n",
    "iris_targets = {i:iris_data.target_names[i] for i in range(len(iris_data.target_names))}\n",
    "iris_df = pd.DataFrame(iris_data.data, columns=iris_data.feature_names)\n",
    "iris_df['target'] = iris_data.target\n",
    "\n",
    "# 2.1 Datos cargados a un dataframe de Pandas \"iris_df\"\n",
    "iris_df['target'] = [iris_targets[iris_df['target'][i]] for i in range(len(iris_df['target']))]\n",
    "iris_df.sample(5)"
   ]
  },
  {
   "cell_type": "code",
   "execution_count": 3,
   "metadata": {},
   "outputs": [
    {
     "name": "stdout",
     "output_type": "stream",
     "text": [
      "<class 'pandas.core.frame.DataFrame'>\n",
      "RangeIndex: 150 entries, 0 to 149\n",
      "Data columns (total 5 columns):\n",
      "sepal length (cm)    150 non-null float64\n",
      "sepal width (cm)     150 non-null float64\n",
      "petal length (cm)    150 non-null float64\n",
      "petal width (cm)     150 non-null float64\n",
      "target               150 non-null object\n",
      "dtypes: float64(4), object(1)\n",
      "memory usage: 5.9+ KB\n"
     ]
    },
    {
     "data": {
      "text/html": [
       "<div>\n",
       "<style scoped>\n",
       "    .dataframe tbody tr th:only-of-type {\n",
       "        vertical-align: middle;\n",
       "    }\n",
       "\n",
       "    .dataframe tbody tr th {\n",
       "        vertical-align: top;\n",
       "    }\n",
       "\n",
       "    .dataframe thead th {\n",
       "        text-align: right;\n",
       "    }\n",
       "</style>\n",
       "<table border=\"1\" class=\"dataframe\">\n",
       "  <thead>\n",
       "    <tr style=\"text-align: right;\">\n",
       "      <th></th>\n",
       "      <th>sepal length (cm)</th>\n",
       "      <th>sepal width (cm)</th>\n",
       "      <th>petal length (cm)</th>\n",
       "      <th>petal width (cm)</th>\n",
       "    </tr>\n",
       "  </thead>\n",
       "  <tbody>\n",
       "    <tr>\n",
       "      <th>count</th>\n",
       "      <td>150.000000</td>\n",
       "      <td>150.000000</td>\n",
       "      <td>150.000000</td>\n",
       "      <td>150.000000</td>\n",
       "    </tr>\n",
       "    <tr>\n",
       "      <th>mean</th>\n",
       "      <td>5.843333</td>\n",
       "      <td>3.054000</td>\n",
       "      <td>3.758667</td>\n",
       "      <td>1.198667</td>\n",
       "    </tr>\n",
       "    <tr>\n",
       "      <th>std</th>\n",
       "      <td>0.828066</td>\n",
       "      <td>0.433594</td>\n",
       "      <td>1.764420</td>\n",
       "      <td>0.763161</td>\n",
       "    </tr>\n",
       "    <tr>\n",
       "      <th>min</th>\n",
       "      <td>4.300000</td>\n",
       "      <td>2.000000</td>\n",
       "      <td>1.000000</td>\n",
       "      <td>0.100000</td>\n",
       "    </tr>\n",
       "    <tr>\n",
       "      <th>25%</th>\n",
       "      <td>5.100000</td>\n",
       "      <td>2.800000</td>\n",
       "      <td>1.600000</td>\n",
       "      <td>0.300000</td>\n",
       "    </tr>\n",
       "    <tr>\n",
       "      <th>50%</th>\n",
       "      <td>5.800000</td>\n",
       "      <td>3.000000</td>\n",
       "      <td>4.350000</td>\n",
       "      <td>1.300000</td>\n",
       "    </tr>\n",
       "    <tr>\n",
       "      <th>75%</th>\n",
       "      <td>6.400000</td>\n",
       "      <td>3.300000</td>\n",
       "      <td>5.100000</td>\n",
       "      <td>1.800000</td>\n",
       "    </tr>\n",
       "    <tr>\n",
       "      <th>max</th>\n",
       "      <td>7.900000</td>\n",
       "      <td>4.400000</td>\n",
       "      <td>6.900000</td>\n",
       "      <td>2.500000</td>\n",
       "    </tr>\n",
       "  </tbody>\n",
       "</table>\n",
       "</div>"
      ],
      "text/plain": [
       "       sepal length (cm)  sepal width (cm)  petal length (cm)  \\\n",
       "count         150.000000        150.000000         150.000000   \n",
       "mean            5.843333          3.054000           3.758667   \n",
       "std             0.828066          0.433594           1.764420   \n",
       "min             4.300000          2.000000           1.000000   \n",
       "25%             5.100000          2.800000           1.600000   \n",
       "50%             5.800000          3.000000           4.350000   \n",
       "75%             6.400000          3.300000           5.100000   \n",
       "max             7.900000          4.400000           6.900000   \n",
       "\n",
       "       petal width (cm)  \n",
       "count        150.000000  \n",
       "mean           1.198667  \n",
       "std            0.763161  \n",
       "min            0.100000  \n",
       "25%            0.300000  \n",
       "50%            1.300000  \n",
       "75%            1.800000  \n",
       "max            2.500000  "
      ]
     },
     "execution_count": 3,
     "metadata": {},
     "output_type": "execute_result"
    }
   ],
   "source": [
    "# 2.2 Mostrando informacion basica del dataframe\n",
    "iris_df.info()\n",
    "iris_df.describe()"
   ]
  },
  {
   "cell_type": "code",
   "execution_count": 4,
   "metadata": {},
   "outputs": [
    {
     "data": {
      "text/html": [
       "<div>\n",
       "<style scoped>\n",
       "    .dataframe tbody tr th:only-of-type {\n",
       "        vertical-align: middle;\n",
       "    }\n",
       "\n",
       "    .dataframe tbody tr th {\n",
       "        vertical-align: top;\n",
       "    }\n",
       "\n",
       "    .dataframe thead tr th {\n",
       "        text-align: left;\n",
       "    }\n",
       "\n",
       "    .dataframe thead tr:last-of-type th {\n",
       "        text-align: right;\n",
       "    }\n",
       "</style>\n",
       "<table border=\"1\" class=\"dataframe\">\n",
       "  <thead>\n",
       "    <tr>\n",
       "      <th></th>\n",
       "      <th colspan=\"8\" halign=\"left\">petal length (cm)</th>\n",
       "      <th colspan=\"8\" halign=\"left\">petal width (cm)</th>\n",
       "      <th colspan=\"8\" halign=\"left\">sepal length (cm)</th>\n",
       "      <th colspan=\"8\" halign=\"left\">sepal width (cm)</th>\n",
       "    </tr>\n",
       "    <tr>\n",
       "      <th></th>\n",
       "      <th>count</th>\n",
       "      <th>mean</th>\n",
       "      <th>std</th>\n",
       "      <th>min</th>\n",
       "      <th>25%</th>\n",
       "      <th>50%</th>\n",
       "      <th>75%</th>\n",
       "      <th>max</th>\n",
       "      <th>count</th>\n",
       "      <th>mean</th>\n",
       "      <th>std</th>\n",
       "      <th>min</th>\n",
       "      <th>25%</th>\n",
       "      <th>50%</th>\n",
       "      <th>75%</th>\n",
       "      <th>max</th>\n",
       "      <th>count</th>\n",
       "      <th>mean</th>\n",
       "      <th>std</th>\n",
       "      <th>min</th>\n",
       "      <th>25%</th>\n",
       "      <th>50%</th>\n",
       "      <th>75%</th>\n",
       "      <th>max</th>\n",
       "      <th>count</th>\n",
       "      <th>mean</th>\n",
       "      <th>std</th>\n",
       "      <th>min</th>\n",
       "      <th>25%</th>\n",
       "      <th>50%</th>\n",
       "      <th>75%</th>\n",
       "      <th>max</th>\n",
       "    </tr>\n",
       "    <tr>\n",
       "      <th>target</th>\n",
       "      <th></th>\n",
       "      <th></th>\n",
       "      <th></th>\n",
       "      <th></th>\n",
       "      <th></th>\n",
       "      <th></th>\n",
       "      <th></th>\n",
       "      <th></th>\n",
       "      <th></th>\n",
       "      <th></th>\n",
       "      <th></th>\n",
       "      <th></th>\n",
       "      <th></th>\n",
       "      <th></th>\n",
       "      <th></th>\n",
       "      <th></th>\n",
       "      <th></th>\n",
       "      <th></th>\n",
       "      <th></th>\n",
       "      <th></th>\n",
       "      <th></th>\n",
       "      <th></th>\n",
       "      <th></th>\n",
       "      <th></th>\n",
       "      <th></th>\n",
       "      <th></th>\n",
       "      <th></th>\n",
       "      <th></th>\n",
       "      <th></th>\n",
       "      <th></th>\n",
       "      <th></th>\n",
       "      <th></th>\n",
       "    </tr>\n",
       "  </thead>\n",
       "  <tbody>\n",
       "    <tr>\n",
       "      <th>setosa</th>\n",
       "      <td>50.0</td>\n",
       "      <td>1.464</td>\n",
       "      <td>0.173511</td>\n",
       "      <td>1.0</td>\n",
       "      <td>1.4</td>\n",
       "      <td>1.50</td>\n",
       "      <td>1.575</td>\n",
       "      <td>1.9</td>\n",
       "      <td>50.0</td>\n",
       "      <td>0.244</td>\n",
       "      <td>0.107210</td>\n",
       "      <td>0.1</td>\n",
       "      <td>0.2</td>\n",
       "      <td>0.2</td>\n",
       "      <td>0.3</td>\n",
       "      <td>0.6</td>\n",
       "      <td>50.0</td>\n",
       "      <td>5.006</td>\n",
       "      <td>0.352490</td>\n",
       "      <td>4.3</td>\n",
       "      <td>4.800</td>\n",
       "      <td>5.0</td>\n",
       "      <td>5.2</td>\n",
       "      <td>5.8</td>\n",
       "      <td>50.0</td>\n",
       "      <td>3.418</td>\n",
       "      <td>0.381024</td>\n",
       "      <td>2.3</td>\n",
       "      <td>3.125</td>\n",
       "      <td>3.4</td>\n",
       "      <td>3.675</td>\n",
       "      <td>4.4</td>\n",
       "    </tr>\n",
       "    <tr>\n",
       "      <th>versicolor</th>\n",
       "      <td>50.0</td>\n",
       "      <td>4.260</td>\n",
       "      <td>0.469911</td>\n",
       "      <td>3.0</td>\n",
       "      <td>4.0</td>\n",
       "      <td>4.35</td>\n",
       "      <td>4.600</td>\n",
       "      <td>5.1</td>\n",
       "      <td>50.0</td>\n",
       "      <td>1.326</td>\n",
       "      <td>0.197753</td>\n",
       "      <td>1.0</td>\n",
       "      <td>1.2</td>\n",
       "      <td>1.3</td>\n",
       "      <td>1.5</td>\n",
       "      <td>1.8</td>\n",
       "      <td>50.0</td>\n",
       "      <td>5.936</td>\n",
       "      <td>0.516171</td>\n",
       "      <td>4.9</td>\n",
       "      <td>5.600</td>\n",
       "      <td>5.9</td>\n",
       "      <td>6.3</td>\n",
       "      <td>7.0</td>\n",
       "      <td>50.0</td>\n",
       "      <td>2.770</td>\n",
       "      <td>0.313798</td>\n",
       "      <td>2.0</td>\n",
       "      <td>2.525</td>\n",
       "      <td>2.8</td>\n",
       "      <td>3.000</td>\n",
       "      <td>3.4</td>\n",
       "    </tr>\n",
       "    <tr>\n",
       "      <th>virginica</th>\n",
       "      <td>50.0</td>\n",
       "      <td>5.552</td>\n",
       "      <td>0.551895</td>\n",
       "      <td>4.5</td>\n",
       "      <td>5.1</td>\n",
       "      <td>5.55</td>\n",
       "      <td>5.875</td>\n",
       "      <td>6.9</td>\n",
       "      <td>50.0</td>\n",
       "      <td>2.026</td>\n",
       "      <td>0.274650</td>\n",
       "      <td>1.4</td>\n",
       "      <td>1.8</td>\n",
       "      <td>2.0</td>\n",
       "      <td>2.3</td>\n",
       "      <td>2.5</td>\n",
       "      <td>50.0</td>\n",
       "      <td>6.588</td>\n",
       "      <td>0.635880</td>\n",
       "      <td>4.9</td>\n",
       "      <td>6.225</td>\n",
       "      <td>6.5</td>\n",
       "      <td>6.9</td>\n",
       "      <td>7.9</td>\n",
       "      <td>50.0</td>\n",
       "      <td>2.974</td>\n",
       "      <td>0.322497</td>\n",
       "      <td>2.2</td>\n",
       "      <td>2.800</td>\n",
       "      <td>3.0</td>\n",
       "      <td>3.175</td>\n",
       "      <td>3.8</td>\n",
       "    </tr>\n",
       "  </tbody>\n",
       "</table>\n",
       "</div>"
      ],
      "text/plain": [
       "           petal length (cm)                                               \\\n",
       "                       count   mean       std  min  25%   50%    75%  max   \n",
       "target                                                                      \n",
       "setosa                  50.0  1.464  0.173511  1.0  1.4  1.50  1.575  1.9   \n",
       "versicolor              50.0  4.260  0.469911  3.0  4.0  4.35  4.600  5.1   \n",
       "virginica               50.0  5.552  0.551895  4.5  5.1  5.55  5.875  6.9   \n",
       "\n",
       "           petal width (cm)                                            \\\n",
       "                      count   mean       std  min  25%  50%  75%  max   \n",
       "target                                                                  \n",
       "setosa                 50.0  0.244  0.107210  0.1  0.2  0.2  0.3  0.6   \n",
       "versicolor             50.0  1.326  0.197753  1.0  1.2  1.3  1.5  1.8   \n",
       "virginica              50.0  2.026  0.274650  1.4  1.8  2.0  2.3  2.5   \n",
       "\n",
       "           sepal length (cm)                                              \\\n",
       "                       count   mean       std  min    25%  50%  75%  max   \n",
       "target                                                                     \n",
       "setosa                  50.0  5.006  0.352490  4.3  4.800  5.0  5.2  5.8   \n",
       "versicolor              50.0  5.936  0.516171  4.9  5.600  5.9  6.3  7.0   \n",
       "virginica               50.0  6.588  0.635880  4.9  6.225  6.5  6.9  7.9   \n",
       "\n",
       "           sepal width (cm)                                                \n",
       "                      count   mean       std  min    25%  50%    75%  max  \n",
       "target                                                                     \n",
       "setosa                 50.0  3.418  0.381024  2.3  3.125  3.4  3.675  4.4  \n",
       "versicolor             50.0  2.770  0.313798  2.0  2.525  2.8  3.000  3.4  \n",
       "virginica              50.0  2.974  0.322497  2.2  2.800  3.0  3.175  3.8  "
      ]
     },
     "execution_count": 4,
     "metadata": {},
     "output_type": "execute_result"
    }
   ],
   "source": [
    "# Utiliza la clasificación, dividir-aplicar-combinar y visualización para\n",
    "# buscar las diferencias entre las especies.\n",
    "# 2.3 Describiendo las especies\n",
    "import matplotlib.pyplot as plt\n",
    "\n",
    "pd.set_option('display.max_columns', 100)\n",
    "iris_groups = iris_df.groupby('target')\n",
    "iris_groups.describe()"
   ]
  },
  {
   "cell_type": "code",
   "execution_count": 5,
   "metadata": {},
   "outputs": [
    {
     "data": {
      "text/html": [
       "<div>\n",
       "<style scoped>\n",
       "    .dataframe tbody tr th:only-of-type {\n",
       "        vertical-align: middle;\n",
       "    }\n",
       "\n",
       "    .dataframe tbody tr th {\n",
       "        vertical-align: top;\n",
       "    }\n",
       "\n",
       "    .dataframe thead th {\n",
       "        text-align: right;\n",
       "    }\n",
       "</style>\n",
       "<table border=\"1\" class=\"dataframe\">\n",
       "  <thead>\n",
       "    <tr style=\"text-align: right;\">\n",
       "      <th></th>\n",
       "      <th>target</th>\n",
       "      <th>MEAN sepal length (cm)</th>\n",
       "      <th>STD sepal length (cm)</th>\n",
       "      <th>MEAN sepal width (cm)</th>\n",
       "      <th>STD sepal width (cm)</th>\n",
       "      <th>MEAN petal length (cm)</th>\n",
       "      <th>STD petal length (cm)</th>\n",
       "      <th>MEAN petal width (cm)</th>\n",
       "      <th>STD petal width (cm)</th>\n",
       "    </tr>\n",
       "  </thead>\n",
       "  <tbody>\n",
       "    <tr>\n",
       "      <th>0</th>\n",
       "      <td>setosa</td>\n",
       "      <td>5.006</td>\n",
       "      <td>0.352490</td>\n",
       "      <td>3.418</td>\n",
       "      <td>0.381024</td>\n",
       "      <td>1.464</td>\n",
       "      <td>0.173511</td>\n",
       "      <td>0.244</td>\n",
       "      <td>0.107210</td>\n",
       "    </tr>\n",
       "    <tr>\n",
       "      <th>1</th>\n",
       "      <td>versicolor</td>\n",
       "      <td>5.936</td>\n",
       "      <td>0.516171</td>\n",
       "      <td>2.770</td>\n",
       "      <td>0.313798</td>\n",
       "      <td>4.260</td>\n",
       "      <td>0.469911</td>\n",
       "      <td>1.326</td>\n",
       "      <td>0.197753</td>\n",
       "    </tr>\n",
       "    <tr>\n",
       "      <th>2</th>\n",
       "      <td>virginica</td>\n",
       "      <td>6.588</td>\n",
       "      <td>0.635880</td>\n",
       "      <td>2.974</td>\n",
       "      <td>0.322497</td>\n",
       "      <td>5.552</td>\n",
       "      <td>0.551895</td>\n",
       "      <td>2.026</td>\n",
       "      <td>0.274650</td>\n",
       "    </tr>\n",
       "  </tbody>\n",
       "</table>\n",
       "</div>"
      ],
      "text/plain": [
       "       target  MEAN sepal length (cm)  STD sepal length (cm)  \\\n",
       "0      setosa                   5.006               0.352490   \n",
       "1  versicolor                   5.936               0.516171   \n",
       "2   virginica                   6.588               0.635880   \n",
       "\n",
       "   MEAN sepal width (cm)  STD sepal width (cm)  MEAN petal length (cm)  \\\n",
       "0                  3.418              0.381024                   1.464   \n",
       "1                  2.770              0.313798                   4.260   \n",
       "2                  2.974              0.322497                   5.552   \n",
       "\n",
       "   STD petal length (cm)  MEAN petal width (cm)  STD petal width (cm)  \n",
       "0               0.173511                  0.244              0.107210  \n",
       "1               0.469911                  1.326              0.197753  \n",
       "2               0.551895                  2.026              0.274650  "
      ]
     },
     "execution_count": 5,
     "metadata": {},
     "output_type": "execute_result"
    }
   ],
   "source": [
    "# Se podria usar la media  y la desviacion estandar\n",
    "# de los campos disponibles (longitudes en cm.)\n",
    "# para generar un modelo que clasifique nuevas entradas\n",
    "iris_util = iris_groups.mean().reset_index()\n",
    "iris_util.columns = [\"MEAN \" + iris_util.columns[i] for i in range(5)]\n",
    "\n",
    "\n",
    "for i, col in zip([2, 4, 6, 8], range(1, 5)):\n",
    "    iris_util.insert(loc=i,\n",
    "                     column=\"STD \" + iris_groups.std().reset_index().columns[col],\n",
    "                     value=iris_groups.std().reset_index().iloc[:,col])\n",
    "iris_util.columns.values[0] = 'target'\n",
    "iris_util\n"
   ]
  },
  {
   "cell_type": "code",
   "execution_count": 6,
   "metadata": {},
   "outputs": [
    {
     "data": {
      "text/plain": [
       "<seaborn.axisgrid.PairGrid at 0x7f2607299cf8>"
      ]
     },
     "execution_count": 6,
     "metadata": {},
     "output_type": "execute_result"
    },
    {
     "data": {
      "image/png": "[encoded data removed]",
      "text/plain": [
       "<Figure size 804.75x720 with 20 Axes>"
      ]
     },
     "metadata": {},
     "output_type": "display_data"
    }
   ],
   "source": [
    "import matplotlib.pyplot as plt\n",
    "import seaborn as sb\n",
    "%matplotlib inline\n",
    "\n",
    "sb.pairplot(iris_df, hue='target')"
   ]
  },
  {
   "cell_type": "markdown",
   "metadata": {},
   "source": [
    "Podemos observar que las gráficas de las relaciones **Sepal width vs Petal width**, **Sepal lenght vs Petal width** y a lo mejor **Petal lenght vs Sepal width** y **Petal width vs Petal lenght** son las que generan una mejor separación de las clases a modelar. Utilizaré el primero para generar mi modelo dado que parece poseer la mejor representación. Para esto buscaré datos que cumplan estar **más cerca de la media de datos utilizados (Sepal width y Petal width).**"
   ]
  },
  {
   "cell_type": "code",
   "execution_count": 7,
   "metadata": {},
   "outputs": [
    {
     "data": {
      "text/html": [
       "<div>\n",
       "<style scoped>\n",
       "    .dataframe tbody tr th:only-of-type {\n",
       "        vertical-align: middle;\n",
       "    }\n",
       "\n",
       "    .dataframe tbody tr th {\n",
       "        vertical-align: top;\n",
       "    }\n",
       "\n",
       "    .dataframe thead th {\n",
       "        text-align: right;\n",
       "    }\n",
       "</style>\n",
       "<table border=\"1\" class=\"dataframe\">\n",
       "  <thead>\n",
       "    <tr style=\"text-align: right;\">\n",
       "      <th></th>\n",
       "      <th>sepal length (cm)</th>\n",
       "      <th>sepal width (cm)</th>\n",
       "      <th>petal length (cm)</th>\n",
       "      <th>petal width (cm)</th>\n",
       "      <th>target</th>\n",
       "    </tr>\n",
       "  </thead>\n",
       "  <tbody>\n",
       "    <tr>\n",
       "      <th>56</th>\n",
       "      <td>6.3</td>\n",
       "      <td>3.3</td>\n",
       "      <td>4.7</td>\n",
       "      <td>1.6</td>\n",
       "      <td>versicolor</td>\n",
       "    </tr>\n",
       "    <tr>\n",
       "      <th>149</th>\n",
       "      <td>5.9</td>\n",
       "      <td>3.0</td>\n",
       "      <td>5.1</td>\n",
       "      <td>1.8</td>\n",
       "      <td>virginica</td>\n",
       "    </tr>\n",
       "    <tr>\n",
       "      <th>78</th>\n",
       "      <td>6.0</td>\n",
       "      <td>2.9</td>\n",
       "      <td>4.5</td>\n",
       "      <td>1.5</td>\n",
       "      <td>versicolor</td>\n",
       "    </tr>\n",
       "    <tr>\n",
       "      <th>57</th>\n",
       "      <td>4.9</td>\n",
       "      <td>2.4</td>\n",
       "      <td>3.3</td>\n",
       "      <td>1.0</td>\n",
       "      <td>versicolor</td>\n",
       "    </tr>\n",
       "    <tr>\n",
       "      <th>52</th>\n",
       "      <td>6.9</td>\n",
       "      <td>3.1</td>\n",
       "      <td>4.9</td>\n",
       "      <td>1.5</td>\n",
       "      <td>versicolor</td>\n",
       "    </tr>\n",
       "    <tr>\n",
       "      <th>116</th>\n",
       "      <td>6.5</td>\n",
       "      <td>3.0</td>\n",
       "      <td>5.5</td>\n",
       "      <td>1.8</td>\n",
       "      <td>virginica</td>\n",
       "    </tr>\n",
       "    <tr>\n",
       "      <th>141</th>\n",
       "      <td>6.9</td>\n",
       "      <td>3.1</td>\n",
       "      <td>5.1</td>\n",
       "      <td>2.3</td>\n",
       "      <td>virginica</td>\n",
       "    </tr>\n",
       "    <tr>\n",
       "      <th>76</th>\n",
       "      <td>6.8</td>\n",
       "      <td>2.8</td>\n",
       "      <td>4.8</td>\n",
       "      <td>1.4</td>\n",
       "      <td>versicolor</td>\n",
       "    </tr>\n",
       "    <tr>\n",
       "      <th>28</th>\n",
       "      <td>5.2</td>\n",
       "      <td>3.4</td>\n",
       "      <td>1.4</td>\n",
       "      <td>0.2</td>\n",
       "      <td>setosa</td>\n",
       "    </tr>\n",
       "    <tr>\n",
       "      <th>108</th>\n",
       "      <td>6.7</td>\n",
       "      <td>2.5</td>\n",
       "      <td>5.8</td>\n",
       "      <td>1.8</td>\n",
       "      <td>virginica</td>\n",
       "    </tr>\n",
       "  </tbody>\n",
       "</table>\n",
       "</div>"
      ],
      "text/plain": [
       "     sepal length (cm)  sepal width (cm)  petal length (cm)  petal width (cm)  \\\n",
       "56                 6.3               3.3                4.7               1.6   \n",
       "149                5.9               3.0                5.1               1.8   \n",
       "78                 6.0               2.9                4.5               1.5   \n",
       "57                 4.9               2.4                3.3               1.0   \n",
       "52                 6.9               3.1                4.9               1.5   \n",
       "116                6.5               3.0                5.5               1.8   \n",
       "141                6.9               3.1                5.1               2.3   \n",
       "76                 6.8               2.8                4.8               1.4   \n",
       "28                 5.2               3.4                1.4               0.2   \n",
       "108                6.7               2.5                5.8               1.8   \n",
       "\n",
       "         target  \n",
       "56   versicolor  \n",
       "149   virginica  \n",
       "78   versicolor  \n",
       "57   versicolor  \n",
       "52   versicolor  \n",
       "116   virginica  \n",
       "141   virginica  \n",
       "76   versicolor  \n",
       "28       setosa  \n",
       "108   virginica  "
      ]
     },
     "execution_count": 7,
     "metadata": {},
     "output_type": "execute_result"
    }
   ],
   "source": [
    "# 2.4 Escribe un conjunto de reglas que podrían usarse\n",
    "# para predecir especies en base a las mediciones de iris.\n",
    "import numpy as np\n",
    "\n",
    "# Dividimos la data en 70% de uso de modelo\n",
    "# y el resto para probar nuestras suposiciones\n",
    "mask = np.random.rand(len(iris_df)) < 0.7\n",
    "train_df = iris_df[mask]\n",
    "test_df = iris_df[~mask]\n",
    "\n",
    "train_df.sample(10)"
   ]
  },
  {
   "cell_type": "code",
   "execution_count": 8,
   "metadata": {},
   "outputs": [
    {
     "data": {
      "text/plain": [
       "<seaborn.axisgrid.PairGrid at 0x7f2606aae550>"
      ]
     },
     "execution_count": 8,
     "metadata": {},
     "output_type": "execute_result"
    },
    {
     "data": {
      "image/png": "[encoded data removed]",
      "text/plain": [
       "<Figure size 804.75x720 with 20 Axes>"
      ]
     },
     "metadata": {},
     "output_type": "display_data"
    }
   ],
   "source": [
    "sb.pairplot(train_df, hue='target')"
   ]
  },
  {
   "cell_type": "markdown",
   "metadata": {},
   "source": [
    "Se observa que aún se mantienen las utilidades de las dependencias explicadas en el gráfico anterior"
   ]
  },
  {
   "cell_type": "code",
   "execution_count": 9,
   "metadata": {},
   "outputs": [],
   "source": [
    "# orden en \"means\" y \"stds\"\n",
    "# 0: setosa, 1: versicolor, 2: virginica\n",
    "means = train_df.groupby('target').mean().reset_index()\n",
    "sepal_lenght_mean = means.iloc[:,1]\n",
    "sepal_width_mean = means.iloc[:,2]\n",
    "petal_width_mean = means.iloc[:,4]\n",
    "\n",
    "stds = train_df.groupby('target').std().reset_index()\n",
    "sepal_lenght_std = stds.iloc[:, 1]\n",
    "sepal_width_std = stds.iloc[:, 2]\n",
    "petal_width_std = stds.iloc[:, 4]"
   ]
  },
  {
   "cell_type": "markdown",
   "metadata": {},
   "source": [
    "Para responder el ejercicio, mi regla estará basada en calcular las distancias a las medias de los datos generados, y clasificará como uno u otro tipo de iris dependiendo la distancia mínima a este valor medio."
   ]
  },
  {
   "cell_type": "code",
   "execution_count": 10,
   "metadata": {},
   "outputs": [],
   "source": [
    "# Clasificacion Sepal width vs Petal width\n",
    "def clasif_sepalWidth_petalWidth(sepalW, petalW):\n",
    "    # checking if setosa\n",
    "    classif = [\"setosa\", \"versicolor\", \"virginica\"]\n",
    "    dist_vector = [ \n",
    "        np.linalg.norm(\n",
    "            np.array([sepalW, petalW]) - np.array([sepal_width_mean[i], petal_width_mean[i]]) \n",
    "        ) for i in range(0, 3)]\n",
    "    return classif[np.argmin(dist_vector)]"
   ]
  },
  {
   "cell_type": "markdown",
   "metadata": {},
   "source": [
    "Ahora procedemos a probar los valores de prueba usando el método anterior"
   ]
  },
  {
   "cell_type": "code",
   "execution_count": 11,
   "metadata": {},
   "outputs": [
    {
     "name": "stdout",
     "output_type": "stream",
     "text": [
      "Porcentaje de exito:  95.1219512195122 %\n"
     ]
    }
   ],
   "source": [
    "success_counter = 0\n",
    "for i in range(len(test_df)):\n",
    "    sepal_w = test_df.iloc[i]['sepal width (cm)']\n",
    "    petal_w = test_df.iloc[i]['petal width (cm)']\n",
    "    if clasif_sepalWidth_petalWidth(sepal_w, petal_w) == test_df.iloc[i]['target']:\n",
    "        success_counter += 1\n",
    "success_percent = 100*success_counter/len(test_df)\n",
    "print(\"Porcentaje de exito: \", success_percent, \"%\")"
   ]
  },
  {
   "cell_type": "code",
   "execution_count": 12,
   "metadata": {},
   "outputs": [
    {
     "name": "stdout",
     "output_type": "stream",
     "text": [
      "Comenzando clasificacion: ...\n",
      "Clasificacion total concluida\n",
      "Porcentaje de exito total:  93.33333333333333 %\n"
     ]
    }
   ],
   "source": [
    "# 2.5 Define una función que acepte una fila de datos y devuelva una especie pronosticada.\n",
    "# Luego, usa esa función para hacer predicciones para todas las filas de datos existentes\n",
    "# y verifique la precisión de sus predicciones.\n",
    "\n",
    "# Preparando metodo wrapper para aceptar tupla\n",
    "def clasif_function(data_row):\n",
    "    data = np.array(data_row)\n",
    "    sepal_w = data[1]\n",
    "    petal_w = data[3]\n",
    "\n",
    "    cclass = clasif_sepalWidth_petalWidth(sepal_w, petal_w)\n",
    "    return cclass\n",
    "\n",
    "success_rate = 0\n",
    "print(\"Comenzando clasificacion: ...\")\n",
    "for i in range(len(iris_df)):\n",
    "    #print(np.array(iris_df.iloc[i,4]), \"|\", clasif_function(iris_df.iloc[i]))\n",
    "    if np.array(iris_df.iloc[i,4]) == clasif_function(iris_df.iloc[i]):\n",
    "        success_rate += 1\n",
    "print(\"Clasificacion total concluida\")\n",
    "success_rate = 100*success_rate/len(iris_df)\n",
    "print(\"Porcentaje de exito total: \", success_rate, \"%\")"
   ]
  },
  {
   "cell_type": "markdown",
   "metadata": {},
   "source": [
    "3 . Sea el siguiente código de generación de datos:"
   ]
  },
  {
   "cell_type": "code",
   "execution_count": 283,
   "metadata": {},
   "outputs": [],
   "source": [
    "import numpy as np\n",
    "import pandas as pd\n",
    "import matplotlib.pyplot as plt\n",
    "\n",
    "%matplotlib inline"
   ]
  },
  {
   "cell_type": "code",
   "execution_count": 284,
   "metadata": {},
   "outputs": [
    {
     "data": {
      "image/png": "[encoded data removed]",
      "text/plain": [
       "<Figure size 432x288 with 1 Axes>"
      ]
     },
     "metadata": {},
     "output_type": "display_data"
    }
   ],
   "source": [
    "# Recolectamos datos artificiales\n",
    "n = 100\n",
    "x = np.linspace(0, 1, n)\n",
    "y = np.sin(x)*3 + np.random.normal(0, 0.1, n)\n",
    "plt.plot(x, y, 'o');"
   ]
  },
  {
   "cell_type": "markdown",
   "metadata": {},
   "source": [
    "Usando los siguientes datos y scikit learn, desarrolla los siguientes pasos descritos en clase, para una regresión lineal:\n",
    "\n",
    "* Escoger un modelo\n",
    "* Elegir modelo de hiperparámetros\n",
    "* Organiza los datos en una matriz de características y vector objetivo.\n",
    "* Fija el modelo a tus datos.\n",
    "* Predecir etiquetas para datos desconocidos."
   ]
  },
  {
   "cell_type": "code",
   "execution_count": 285,
   "metadata": {},
   "outputs": [],
   "source": [
    "# Tu respuesta"
   ]
  },
  {
   "cell_type": "markdown",
   "metadata": {},
   "source": [
    "4 . Realiza los mismos pasos para el conjunto  de datos de scikit learn  [load_diabetes](http://scikit-learn.org/stable/modules/generated/sklearn.datasets.load_diabetes.html). "
   ]
  },
  {
   "cell_type": "code",
   "execution_count": 286,
   "metadata": {},
   "outputs": [],
   "source": [
    "from sklearn.datasets import load_diabetes\n",
    "data = load_diabetes()"
   ]
  },
  {
   "cell_type": "code",
   "execution_count": 287,
   "metadata": {},
   "outputs": [
    {
     "data": {
      "text/plain": [
       "dict_keys(['data', 'target', 'DESCR', 'feature_names'])"
      ]
     },
     "execution_count": 287,
     "metadata": {},
     "output_type": "execute_result"
    }
   ],
   "source": [
    "data.keys()"
   ]
  },
  {
   "cell_type": "code",
   "execution_count": 288,
   "metadata": {},
   "outputs": [
    {
     "name": "stdout",
     "output_type": "stream",
     "text": [
      "Diabetes dataset\n",
      "================\n",
      "\n",
      "Notes\n",
      "-----\n",
      "\n",
      "Ten baseline variables, age, sex, body mass index, average blood\n",
      "pressure, and six blood serum measurements were obtained for each of n =\n",
      "442 diabetes patients, as well as the response of interest, a\n",
      "quantitative measure of disease progression one year after baseline.\n",
      "\n",
      "Data Set Characteristics:\n",
      "\n",
      "  :Number of Instances: 442\n",
      "\n",
      "  :Number of Attributes: First 10 columns are numeric predictive values\n",
      "\n",
      "  :Target: Column 11 is a quantitative measure of disease progression one year after baseline\n",
      "\n",
      "  :Attributes:\n",
      "    :Age:\n",
      "    :Sex:\n",
      "    :Body mass index:\n",
      "    :Average blood pressure:\n",
      "    :S1:\n",
      "    :S2:\n",
      "    :S3:\n",
      "    :S4:\n",
      "    :S5:\n",
      "    :S6:\n",
      "\n",
      "Note: Each of these 10 feature variables have been mean centered and scaled by the standard deviation times `n_samples` (i.e. the sum of squares of each column totals 1).\n",
      "\n",
      "Source URL:\n",
      "http://www4.stat.ncsu.edu/~boos/var.select/diabetes.html\n",
      "\n",
      "For more information see:\n",
      "Bradley Efron, Trevor Hastie, Iain Johnstone and Robert Tibshirani (2004) \"Least Angle Regression,\" Annals of Statistics (with discussion), 407-499.\n",
      "(http://web.stanford.edu/~hastie/Papers/LARS/LeastAngle_2002.pdf)\n",
      "\n"
     ]
    }
   ],
   "source": [
    "print(data['DESCR'])"
   ]
  },
  {
   "cell_type": "code",
   "execution_count": 289,
   "metadata": {},
   "outputs": [
    {
     "data": {
      "text/plain": [
       "((442, 10), (442,))"
      ]
     },
     "execution_count": 289,
     "metadata": {},
     "output_type": "execute_result"
    }
   ],
   "source": [
    "X = data['data']\n",
    "y = data['target']\n",
    "X.shape, y.shape"
   ]
  },
  {
   "cell_type": "code",
   "execution_count": 290,
   "metadata": {},
   "outputs": [],
   "source": [
    "# Tu solucion"
   ]
  },
  {
   "cell_type": "markdown",
   "metadata": {},
   "source": [
    "5 (Obligatoria). Lee el siguiente artículo [Understanding the Bias-Variance Tradeoff](http://scott.fortmann-roe.com/docs/BiasVariance.html), responde las siguientes preguntas:\n",
    "\n",
    "* En el ejemplo Party Registration, ¿cuáles son las características? ¿Cuál es la respuesta? ¿Es  un problema de regresión o clasificación?.\n",
    "\n",
    "* Conceptualmente, ¿cómo se aplica KNN a este problema para hacer una predicción?\n",
    "* ¿Cómo se relacionan las cuatro visualizaciones en la sección 3 entre sí?. Cambia el valor de **k** utilizando el control deslizante y explica por que  cambió  las visualizaciones.\n",
    "* En las figuras 4 y 5, ¿qué significan los colores más claros en comparación con los colores más oscuros? ¿Cómo se calcula la oscuridad?\n",
    "\n",
    "* ¿Qué representa la línea negra en la figura 5? ¿Qué predicciones haría el mejor modelo de aprendizaje automático con respecto a esta línea?\n",
    "\n",
    "* Elije un valor pequeño para `k` y haz clic en el botón `Generate New Training Data` varias veces. ¿Observas \"baja varianza o alta varianza, bajo sesgo o alto sesgo?\n",
    "\n",
    "* Repite este procedimiento con un valor muy grande de `k`. ¿Observas \"baja varianza o alta varianza, bajo sesgo o alto sesgo?.\n",
    "\n",
    "* Utiliza otros valores de `k`. ¿Qué valor crees que es \"mejor\"? ¿Cómo defines \"mejor\"?.\n",
    "\n",
    "* ¿Un pequeño valor de `k` produce \"overfitting\" o \"underfitting\"? y ¿por qué?.\n",
    "\n",
    "* ¿Por qué debería importarnos la varianza? ¿No deberíamos minimizar el sesgo e ignorar la varianza?.\n",
    "__________"
   ]
  },
  {
   "cell_type": "markdown",
   "metadata": {},
   "source": [
    "5.1 Las \"características\" (asumiré que se refiere a *features* y que solo es una mala traducción) son su riqueza (capacidad económica) y alguna cuantización numérica de su religiosidad. La \"respuesta\" (asumiré denuevo que hubo un error y se refiere a algún tipo de *return value*) es la decisión del votante al elegir al candidato del partido republicano (de rojo) o al demócrata (de azul). Este es un problema de **clasificación**\n",
    "\n",
    "5.2 Conceptualmente se empleará *KNN* utlizando la data bidimensional explicada y delimitaremos las regiones según la clase a la que pertenezcan los vecinos más cercanos a la data (o región) a evualuar. Podría explicarse mejor con el siguiente algoritmo:\n",
    "\n",
    "```\n",
    "KNN(data_votantes, numero_vecinos):\n",
    "    Para todo (x, y) en la region:\n",
    "        cont_republicanos = 0\n",
    "        cont_democratas = 0\n",
    "        \n",
    "        vecinos = obtener_vecinos(numero_vecinos)\n",
    "        Para cada vecino:\n",
    "            Si vecino votara por republicanos: cont_republicanos++\n",
    "            Si vecino votara por democratas: cont_democratas++\n",
    "            \n",
    "        Si cont_republicanos > cont_democratas:\n",
    "            (x, y).votara(republicanos)\n",
    "        sino\n",
    "            (x, y).votara(democratas)\n",
    "            \n",
    "        (x, y).color = obtener_color( (x, y).por_quien_votara() )\n",
    "```"
   ]
  },
  {
   "cell_type": "markdown",
   "metadata": {},
   "source": [
    "Se tomarán todos los k-vecinos cercanos al punto a evaluar y se contará que partido aparce más en la cuenta. El maximo de estas dos cuentas predice la posible nueva votacion."
   ]
  },
  {
   "cell_type": "markdown",
   "metadata": {},
   "source": [
    "5.3 La primera visualización es la representación tridimensional de la data, usando el plano para ubicarla según su riqueza y religiosidad, y el color para indicar el partido al que van. La segunda muestra la aplicación de KNN sobre la data presente utilizada para el entrenamiento; estas regiones se subdividen en polígonos que indican el valor de un nuevo dato en dicha posición. La tercera muestra la evaluación de nuevos datos luego de aplicar el modelo generado. La cuarta y última muestra la aplicación de KNN a todas las regiones en la malla. Al variar el valor de K en la última notamos como se utilizan más o menos vecinos para definir el valor de las regiones; disminuyendo y aumentando la certeza y precisión de sus clases."
   ]
  },
  {
   "cell_type": "markdown",
   "metadata": {},
   "source": [
    "5.4 Un valor más claro significa que la clasificación hecha presenta menor presición en comparación a los colores mas opacos. Este cálculo pudo hacerse en función al porcentaje que se tiene de un color. Por ejemplo: si una region se evalua para k=4, y de estos 4 vecinos 2 votarán por republicanos y los otros por demócratas, el color resultante será blanco. Si fuesen 3 republicanos y 1 demócrata el color sería un rojo ténue, y si los vecinos fuesen todos a votar por el partido republicano el color acabaría siendo de un rojo oscuro bien definido. "
   ]
  },
  {
   "cell_type": "markdown",
   "metadata": {},
   "source": [
    "5.5 Debido a que el modelo ya es conocido por el autor, la línea negra funciona como división de clasificación generalizada. Los datos que caigan por encima de esta corresponden a votantes republicanos, análogamente con la parte inferior y los demócratas. Estas son las predicciones que haría un modelo perfecto respecto a esta línea"
   ]
  },
  {
   "cell_type": "markdown",
   "metadata": {},
   "source": [
    "5.6 Para valores pequeños de K (~7) se nota una varianza alta y un bias (¿\"sesgo\"?) bajo\n",
    "5.7 Para valores más altos se nota una varianza más baja pero un bias considerable.\n",
    "\n",
    "Para estas dos preguntas, mi criterio (que es el criterio que expone el autor) es el siguiente: A partir de la gráfica de la diana se intuye que el modelo tendrá menor bias si la división de los datos se ajusta bien a la curva dibujada (análogo al centro del ejemplo en el tiro al blanco); por otro lado la varianza será poca si no existe elementos de un color en el lado (superior o inferior de la gráfica) equivocado.\n",
    "\n",
    "5.8 Para K=20 noto los mejores resultados. Me refiero al \"mejor\" valor de K cuando la curva ajusta de manera aceptable la división de colores representativos de cada partido, y en simultáneo no existen celdas de diferentes tonalidades de color en cualquiera de los dos lados\n",
    "\n",
    "5.9 Un valor pequeño de K produce *underfitting*, esto debido a que el modelo es tán primitivo que no generaliza absolutamente nada (o muy poco) para un valor bajo.\n",
    "\n",
    "5.10 A medida que el escenario a modelar aumenta en dimensionalidad está demostrado que el bias disminuirá de valor, mientras que debido a la pendiente positiva del error debido a la varianza es positiva, esta acabará disparándose. Además, ninguno de estos parámentros debe ser ignorado, se tiene que tomar en cuenta la dimensionalidad, la permisividad del modelo y la dependencia en **bias-variance tradeoff**\n"
   ]
  }
 ],
 "metadata": {
  "kernelspec": {
   "display_name": "Python 3",
   "language": "python",
   "name": "python3"
  },
  "language_info": {
   "codemirror_mode": {
    "name": "ipython",
    "version": 3
   },
   "file_extension": ".py",
   "mimetype": "text/x-python",
   "name": "python",
   "nbconvert_exporter": "python",
   "pygments_lexer": "ipython3",
   "version": "3.6.5"
  }
 },
 "nbformat": 4,
 "nbformat_minor": 2
}
